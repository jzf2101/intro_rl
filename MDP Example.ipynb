{
 "cells": [
  {
   "cell_type": "markdown",
   "metadata": {},
   "source": [
    "# Markov Decison Processes\n",
    "\n",
    "In Markov Decision Processes, one's actions affect the state of the world.  \n",
    "\n",
    "Given a state $s$ and an action $a$, we know the probability it will end up in the next state $s'$ \n",
    "\n",
    "## Value Iteration/Backwards Induction/Dynamic Programming\n",
    "\n",
    "Value iteration estimates the value of the best action at each state, $V^*(s)$, with recursion since\n",
    "\n",
    "$$V^*(s) = \\max_a\\sum_{s'}P(s'|s,a)\\left(R(s,a,s') + \\gamma V^*(s')\\right)$$\n",
    "\n",
    "This equation is also known as the Bellman equation\n",
    "\n",
    "Because of the discount factor, $\\gamma$, our estimates will converge with the number of iterations since \n",
    "\n",
    "$$\\mid V^*_i(s) - V^*_{i+1}(s) \\mid  \\leq \\gamma^i\\mid R_{max} - R_{min}\\mid$$ \n",
    "\n",
    "\n",
    "## Gridworld Toy Example\n",
    "\n",
    "Gridworld, a typical Reinforcement Learning problem, requires the agent to navigate to a goal loation and avoid possible pitfalls"
   ]
  },
  {
   "cell_type": "code",
   "execution_count": 2,
   "metadata": {
    "collapsed": true
   },
   "outputs": [],
   "source": [
    "import numpy as np\n",
    "import pandas as pd\n",
    "import matplotlib.pyplot as plt\n",
    "import seaborn as sns\n",
    "import pdb\n",
    "\n",
    "sns.set_context('poster')\n",
    "sns.set_palette('colorblind')\n",
    "\n",
    "%matplotlib inline"
   ]
  },
  {
   "cell_type": "markdown",
   "metadata": {},
   "source": [
    "### Let's imagine a 3 by 4 grid with 1 goal and 1 pitfall"
   ]
  },
  {
   "cell_type": "code",
   "execution_count": 3,
   "metadata": {
    "collapsed": true
   },
   "outputs": [],
   "source": [
    "grid = np.array([[-.01,-.01,-.01,1],[-.01,np.nan, -.01, -1],[-.01,-.01,-.01,-.01]])"
   ]
  },
  {
   "cell_type": "code",
   "execution_count": 4,
   "metadata": {
    "scrolled": true
   },
   "outputs": [
    {
     "data": {
      "text/plain": [
       "<matplotlib.text.Text at 0x111891ef0>"
      ]
     },
     "execution_count": 4,
     "metadata": {},
     "output_type": "execute_result"
    },
    {
     "data": {
      "image/png": "[encoded data removed]",
      "text/plain": [
       "<matplotlib.figure.Figure at 0x10d560278>"
      ]
     },
     "metadata": {},
     "output_type": "display_data"
    }
   ],
   "source": [
    "sns.heatmap(grid, cmap='RdBu', annot=True, cbar = False, annot_kws={\"size\": 14})\n",
    "plt.title('Reward for Each Grid Square')"
   ]
  },
  {
   "cell_type": "markdown",
   "metadata": {},
   "source": [
    "## In this world the agent can go up, down, left and right\n",
    "\n",
    "### We'll assume 90% of the time the agent ends up going where it wants to go\n",
    "\n",
    "### 10% of the time it veers off perpendicularly\n",
    "\n",
    "### If it ends up in the pitfall or the goal, it's in the `exit` state and the game is over"
   ]
  },
  {
   "cell_type": "code",
   "execution_count": 5,
   "metadata": {
    "collapsed": true
   },
   "outputs": [],
   "source": [
    "actions = ['up', 'down', 'left', 'right']\n",
    "transition = pd.DataFrame(np.array([[.9, 0, .05, .05,], [0, .9, .05, .05], [.05, .05, .9, 0],\n",
    "                                    [.05, .05, 0, .9]]), index = actions, columns = actions)"
   ]
  },
  {
   "cell_type": "code",
   "execution_count": 6,
   "metadata": {},
   "outputs": [
    {
     "data": {
      "text/plain": [
       "<matplotlib.text.Text at 0x1119c1e10>"
      ]
     },
     "execution_count": 6,
     "metadata": {},
     "output_type": "execute_result"
    },
    {
     "data": {
      "image/png": "[encoded data removed]",
      "text/plain": [
       "<matplotlib.figure.Figure at 0x111925828>"
      ]
     },
     "metadata": {},
     "output_type": "display_data"
    }
   ],
   "source": [
    "sns.heatmap(transition, annot=True, cbar = False, annot_kws={\"size\": 14})\n",
    "plt.title('Transition Probabilities for Each Action')"
   ]
  },
  {
   "cell_type": "markdown",
   "metadata": {},
   "source": [
    "Right now our policy is unknown"
   ]
  },
  {
   "cell_type": "code",
   "execution_count": 7,
   "metadata": {
    "collapsed": true
   },
   "outputs": [],
   "source": [
    "policy = pd.DataFrame([['unknown', 'unknown', 'unknown', 'exit'],\n",
    "                       ['unknown', '', 'unknown', 'exit'],\n",
    "                       ['unknown', 'unknown', 'unknown', 'unknown']])"
   ]
  },
  {
   "cell_type": "code",
   "execution_count": 8,
   "metadata": {
    "scrolled": true
   },
   "outputs": [
    {
     "data": {
      "text/html": [
       "<div>\n",
       "<style>\n",
       "    .dataframe thead tr:only-child th {\n",
       "        text-align: right;\n",
       "    }\n",
       "\n",
       "    .dataframe thead th {\n",
       "        text-align: left;\n",
       "    }\n",
       "\n",
       "    .dataframe tbody tr th {\n",
       "        vertical-align: top;\n",
       "    }\n",
       "</style>\n",
       "<table border=\"1\" class=\"dataframe\">\n",
       "  <thead>\n",
       "    <tr style=\"text-align: right;\">\n",
       "      <th></th>\n",
       "      <th>0</th>\n",
       "      <th>1</th>\n",
       "      <th>2</th>\n",
       "      <th>3</th>\n",
       "    </tr>\n",
       "  </thead>\n",
       "  <tbody>\n",
       "    <tr>\n",
       "      <th>0</th>\n",
       "      <td>unknown</td>\n",
       "      <td>unknown</td>\n",
       "      <td>unknown</td>\n",
       "      <td>exit</td>\n",
       "    </tr>\n",
       "    <tr>\n",
       "      <th>1</th>\n",
       "      <td>unknown</td>\n",
       "      <td></td>\n",
       "      <td>unknown</td>\n",
       "      <td>exit</td>\n",
       "    </tr>\n",
       "    <tr>\n",
       "      <th>2</th>\n",
       "      <td>unknown</td>\n",
       "      <td>unknown</td>\n",
       "      <td>unknown</td>\n",
       "      <td>unknown</td>\n",
       "    </tr>\n",
       "  </tbody>\n",
       "</table>\n",
       "</div>"
      ],
      "text/plain": [
       "         0        1        2        3\n",
       "0  unknown  unknown  unknown     exit\n",
       "1  unknown           unknown     exit\n",
       "2  unknown  unknown  unknown  unknown"
      ]
     },
     "execution_count": 8,
     "metadata": {},
     "output_type": "execute_result"
    }
   ],
   "source": [
    "policy"
   ]
  },
  {
   "cell_type": "markdown",
   "metadata": {},
   "source": [
    "## We'll now use Value Iteration to Solve for the Optimal Policy\n",
    "\n",
    "Assume the discount factor is $0.75$\n",
    "\n",
    "Let's set up our function to update the Q-values"
   ]
  },
  {
   "cell_type": "code",
   "execution_count": 9,
   "metadata": {
    "collapsed": true
   },
   "outputs": [],
   "source": [
    "gamma = 0.75\n",
    "row, col = np.shape(grid)\n",
    "nactions = len(actions)\n",
    "\n",
    "q_values = np.zeros((row,col,nactions))\n",
    "v_values = np.copy(grid)\n",
    "\n",
    "def index_grid(r, c, action):\n",
    "    '''\n",
    "    finds the right index for the next state based on the action name\n",
    "    if the agent tries to go in the direction of a wall or edge,\n",
    "    the agent says in the same place\n",
    "    \n",
    "    Args:\n",
    "        r: row\n",
    "        c: column\n",
    "        action: action name\n",
    "    \n",
    "    Returns:\n",
    "        r: updated row\n",
    "        c: updated column\n",
    "    '''\n",
    "    if  action == 'up':\n",
    "        if r > 0:\n",
    "            r -= 1\n",
    "    if action == 'down':\n",
    "        if r < row - 1:\n",
    "            r += 1\n",
    "    if action == 'left':\n",
    "        if c > 0:\n",
    "            c -= 1\n",
    "    if action == 'right':\n",
    "        if c < col - 1:\n",
    "            c += 1\n",
    "    return r, c\n",
    "\n",
    "def update_q(qvalues, vvalues):\n",
    "    '''\n",
    "    updates the value of each action given the current state and possible future states\n",
    "    recall that the value of each action is the expected value of the current action \n",
    "    + future scenarios (see bellman equation above)\n",
    "    \n",
    "    Args:\n",
    "        qvalues: array of qvalues for each state, action pair\n",
    "        vvalues: array of vvalues for each state\n",
    "    \n",
    "    Returns:\n",
    "        qvalues: updated qvalues\n",
    "    '''\n",
    "    for r in range(row):\n",
    "        for c in range(col):\n",
    "            #if we are in the exit squares, there is no where else to go so the value is fixed\n",
    "            if abs(v_values[r, c]) == 1:\n",
    "                qvalues[r, c, :] = v_values[r, c]\n",
    "                continue\n",
    "            #if we're in a nan square we can assume there's no value for that state\n",
    "            elif np.isnan(grid[r, c]):\n",
    "                qvalues[r, c, :] = np.nan\n",
    "            for i, s in enumerate(actions):\n",
    "                #we're going to loop over the actions twice because we're going from one state to another\n",
    "                rewards = np.zeros(len(actions))\n",
    "                for s_prime in range(len(rewards)):\n",
    "                    #transitions with 0 probabiliy we can ignore\n",
    "                    if transition[s].ix[actions[s_prime]] == 0:\n",
    "                        continue\n",
    "                    nrow, ncol = index_grid(r,c,s)\n",
    "                    #attempts to go to the empty square result on the agent staying put\n",
    "                    if np.isnan(grid[nrow, ncol]):\n",
    "                        rewards[s_prime] = grid[r, c] + gamma*vvalues[r, c]\n",
    "                    else:\n",
    "                        rewards[s_prime] = grid[r, c] + gamma*vvalues[nrow, ncol]\n",
    "                expected_value = np.dot(rewards, np.squeeze(transition[s]))\n",
    "                qvalues[r,c,i] = expected_value\n",
    "    return qvalues"
   ]
  },
  {
   "cell_type": "markdown",
   "metadata": {},
   "source": [
    "## Now let's update the Q-values based on what we see on the grid"
   ]
  },
  {
   "cell_type": "code",
   "execution_count": 10,
   "metadata": {
    "scrolled": true
   },
   "outputs": [
    {
     "name": "stderr",
     "output_type": "stream",
     "text": [
      "/Users/4d/anaconda/lib/python3.5/site-packages/ipykernel/__main__.py:64: DeprecationWarning: \n",
      ".ix is deprecated. Please use\n",
      ".loc for label based indexing or\n",
      ".iloc for positional indexing\n",
      "\n",
      "See the documentation here:\n",
      "http://pandas.pydata.org/pandas-docs/stable/indexing.html#deprecate_ix\n"
     ]
    },
    {
     "data": {
      "text/plain": [
       "array([[[-0.0175, -0.0175, -0.0175, -0.0175],\n",
       "        [-0.0175, -0.0175, -0.0175, -0.0175],\n",
       "        [-0.0175, -0.0175, -0.0175,  0.74  ],\n",
       "        [ 1.    ,  1.    ,  1.    ,  1.    ]],\n",
       "\n",
       "       [[-0.0175, -0.0175, -0.0175, -0.0175],\n",
       "        [    nan,     nan,     nan,     nan],\n",
       "        [-0.0175, -0.0175, -0.0175, -0.76  ],\n",
       "        [-1.    , -1.    , -1.    , -1.    ]],\n",
       "\n",
       "       [[-0.0175, -0.0175, -0.0175, -0.0175],\n",
       "        [-0.0175, -0.0175, -0.0175, -0.0175],\n",
       "        [-0.0175, -0.0175, -0.0175, -0.0175],\n",
       "        [-0.76  , -0.0175, -0.0175, -0.0175]]])"
      ]
     },
     "execution_count": 10,
     "metadata": {},
     "output_type": "execute_result"
    }
   ],
   "source": [
    "qvalues_1 = update_q(q_values, v_values)\n",
    "qvalues_1"
   ]
  },
  {
   "cell_type": "markdown",
   "metadata": {},
   "source": [
    "## Once we know these Q-values we can update the V-values\n",
    "\n",
    "Recall that \n",
    "\n",
    "$$V^*(s) = \\max(Q^*(s,a))$$\n",
    "\n",
    "and the optimal policy, $\\pi^*(s)$, is\n",
    "\n",
    "$$\\pi^*(s) = \\text{argmax}(Q^*(s,a))$$"
   ]
  },
  {
   "cell_type": "code",
   "execution_count": 11,
   "metadata": {
    "collapsed": true
   },
   "outputs": [],
   "source": [
    "def update_v(qvalues, policy):\n",
    "    '''\n",
    "    updates the policy based on the qvalues\n",
    "    recall that v*(s) = max(q*(s,a))\n",
    "    also pi*(s) = argmax(q*(s,a))\n",
    "    \n",
    "    Args:\n",
    "        qvalues: array of values for each state, action pair\n",
    "        policy: array of actions for each state\n",
    "    \n",
    "    Returns:\n",
    "        v_values_new: new array vvalues for each state\n",
    "        policy: updated policy array\n",
    "    '''\n",
    "    v_values_new = np.max(qvalues, axis = 2)\n",
    "    policy_indices = np.argmax(qvalues, axis = 2)\n",
    "    for r in policy.index:\n",
    "        for c in policy.columns:\n",
    "            #we can ignore the blank states and terminal states\n",
    "            if policy[c].ix[r] == 'exit' or policy[c].ix[r] == '':\n",
    "                continue\n",
    "            policy[c].ix[r] = actions[policy_indices[r, c]]\n",
    "    return v_values_new, policy"
   ]
  },
  {
   "cell_type": "code",
   "execution_count": 12,
   "metadata": {},
   "outputs": [
    {
     "name": "stderr",
     "output_type": "stream",
     "text": [
      "/Users/4d/anaconda/lib/python3.5/site-packages/ipykernel/__main__.py:20: DeprecationWarning: \n",
      ".ix is deprecated. Please use\n",
      ".loc for label based indexing or\n",
      ".iloc for positional indexing\n",
      "\n",
      "See the documentation here:\n",
      "http://pandas.pydata.org/pandas-docs/stable/indexing.html#deprecate_ix\n"
     ]
    },
    {
     "data": {
      "text/plain": [
       "<matplotlib.text.Text at 0x111ad09e8>"
      ]
     },
     "execution_count": 12,
     "metadata": {},
     "output_type": "execute_result"
    },
    {
     "data": {
      "image/png": "[encoded data removed]",
      "text/plain": [
       "<matplotlib.figure.Figure at 0x11191bc50>"
      ]
     },
     "metadata": {},
     "output_type": "display_data"
    }
   ],
   "source": [
    "vvalues_1, policy_1 = update_v(qvalues_1, policy)\n",
    "sns.heatmap(vvalues_1, cmap='RdBu', annot=True, cbar = False, annot_kws={\"size\": 14})\n",
    "plt.title('V(s) After 1 Iteration')"
   ]
  },
  {
   "cell_type": "code",
   "execution_count": 13,
   "metadata": {},
   "outputs": [
    {
     "data": {
      "text/html": [
       "<div>\n",
       "<style>\n",
       "    .dataframe thead tr:only-child th {\n",
       "        text-align: right;\n",
       "    }\n",
       "\n",
       "    .dataframe thead th {\n",
       "        text-align: left;\n",
       "    }\n",
       "\n",
       "    .dataframe tbody tr th {\n",
       "        vertical-align: top;\n",
       "    }\n",
       "</style>\n",
       "<table border=\"1\" class=\"dataframe\">\n",
       "  <thead>\n",
       "    <tr style=\"text-align: right;\">\n",
       "      <th></th>\n",
       "      <th>0</th>\n",
       "      <th>1</th>\n",
       "      <th>2</th>\n",
       "      <th>3</th>\n",
       "    </tr>\n",
       "  </thead>\n",
       "  <tbody>\n",
       "    <tr>\n",
       "      <th>0</th>\n",
       "      <td>up</td>\n",
       "      <td>up</td>\n",
       "      <td>right</td>\n",
       "      <td>exit</td>\n",
       "    </tr>\n",
       "    <tr>\n",
       "      <th>1</th>\n",
       "      <td>up</td>\n",
       "      <td></td>\n",
       "      <td>up</td>\n",
       "      <td>exit</td>\n",
       "    </tr>\n",
       "    <tr>\n",
       "      <th>2</th>\n",
       "      <td>up</td>\n",
       "      <td>up</td>\n",
       "      <td>up</td>\n",
       "      <td>down</td>\n",
       "    </tr>\n",
       "  </tbody>\n",
       "</table>\n",
       "</div>"
      ],
      "text/plain": [
       "    0   1      2     3\n",
       "0  up  up  right  exit\n",
       "1  up         up  exit\n",
       "2  up  up     up  down"
      ]
     },
     "execution_count": 13,
     "metadata": {},
     "output_type": "execute_result"
    }
   ],
   "source": [
    "policy_1"
   ]
  },
  {
   "cell_type": "markdown",
   "metadata": {},
   "source": [
    "# Now let's run this one more time to see how these values change again"
   ]
  },
  {
   "cell_type": "code",
   "execution_count": 14,
   "metadata": {},
   "outputs": [
    {
     "data": {
      "text/plain": [
       "array([[[-0.023125, -0.023125, -0.023125, -0.023125],\n",
       "        [-0.023125, -0.023125, -0.023125,  0.545   ],\n",
       "        [ 0.545   , -0.023125, -0.023125,  0.74    ],\n",
       "        [ 1.      ,  1.      ,  1.      ,  1.      ]],\n",
       "\n",
       "       [[-0.023125, -0.023125, -0.023125, -0.023125],\n",
       "        [      nan,       nan,       nan,       nan],\n",
       "        [ 0.545   , -0.023125, -0.023125, -0.76    ],\n",
       "        [-1.      , -1.      , -1.      , -1.      ]],\n",
       "\n",
       "       [[-0.023125, -0.023125, -0.023125, -0.023125],\n",
       "        [-0.023125, -0.023125, -0.023125, -0.023125],\n",
       "        [-0.023125, -0.023125, -0.023125, -0.023125],\n",
       "        [-0.76    , -0.023125, -0.023125, -0.023125]]])"
      ]
     },
     "execution_count": 14,
     "metadata": {},
     "output_type": "execute_result"
    }
   ],
   "source": [
    "qvalues_2 = update_q(qvalues_1, vvalues_1)\n",
    "qvalues_2"
   ]
  },
  {
   "cell_type": "code",
   "execution_count": 15,
   "metadata": {},
   "outputs": [
    {
     "data": {
      "text/plain": [
       "<matplotlib.text.Text at 0x111babf28>"
      ]
     },
     "execution_count": 15,
     "metadata": {},
     "output_type": "execute_result"
    },
    {
     "data": {
      "image/png": "[encoded data removed]",
      "text/plain": [
       "<matplotlib.figure.Figure at 0x104e632b0>"
      ]
     },
     "metadata": {},
     "output_type": "display_data"
    }
   ],
   "source": [
    "vvalues_2, policy_2 = update_v(qvalues_2, policy_1)\n",
    "sns.heatmap(vvalues_2, cmap='RdBu', annot=True, cbar = False, annot_kws={\"size\": 14})\n",
    "plt.title('V(s) after 2 Iterations')"
   ]
  },
  {
   "cell_type": "code",
   "execution_count": 16,
   "metadata": {},
   "outputs": [
    {
     "data": {
      "text/html": [
       "<div>\n",
       "<style>\n",
       "    .dataframe thead tr:only-child th {\n",
       "        text-align: right;\n",
       "    }\n",
       "\n",
       "    .dataframe thead th {\n",
       "        text-align: left;\n",
       "    }\n",
       "\n",
       "    .dataframe tbody tr th {\n",
       "        vertical-align: top;\n",
       "    }\n",
       "</style>\n",
       "<table border=\"1\" class=\"dataframe\">\n",
       "  <thead>\n",
       "    <tr style=\"text-align: right;\">\n",
       "      <th></th>\n",
       "      <th>0</th>\n",
       "      <th>1</th>\n",
       "      <th>2</th>\n",
       "      <th>3</th>\n",
       "    </tr>\n",
       "  </thead>\n",
       "  <tbody>\n",
       "    <tr>\n",
       "      <th>0</th>\n",
       "      <td>up</td>\n",
       "      <td>right</td>\n",
       "      <td>right</td>\n",
       "      <td>exit</td>\n",
       "    </tr>\n",
       "    <tr>\n",
       "      <th>1</th>\n",
       "      <td>up</td>\n",
       "      <td></td>\n",
       "      <td>up</td>\n",
       "      <td>exit</td>\n",
       "    </tr>\n",
       "    <tr>\n",
       "      <th>2</th>\n",
       "      <td>up</td>\n",
       "      <td>up</td>\n",
       "      <td>up</td>\n",
       "      <td>down</td>\n",
       "    </tr>\n",
       "  </tbody>\n",
       "</table>\n",
       "</div>"
      ],
      "text/plain": [
       "    0      1      2     3\n",
       "0  up  right  right  exit\n",
       "1  up            up  exit\n",
       "2  up     up     up  down"
      ]
     },
     "execution_count": 16,
     "metadata": {},
     "output_type": "execute_result"
    }
   ],
   "source": [
    "policy_2"
   ]
  },
  {
   "cell_type": "markdown",
   "metadata": {},
   "source": [
    "# We can now combine these two steps and run until convergence"
   ]
  },
  {
   "cell_type": "code",
   "execution_count": 17,
   "metadata": {
    "collapsed": true
   },
   "outputs": [],
   "source": [
    "def value_iteration(qvalues, vvalues, policy, epsilon):\n",
    "    qvalues = update_q(qvalues, vvalues)\n",
    "    v_new, policy_new = update_v(qvalues, policy)  \n",
    "    print(abs(v_new - vvalues))\n",
    "    while (np.nanmax(abs(v_new - vvalues)) > epsilon):\n",
    "        print('current epsilon: %0.5f' % np.nanmax(abs(v_new - vvalues)))\n",
    "        vvalues = v_new\n",
    "        qvalues = update_q(qvalues, vvalues)\n",
    "        v_new, policy_new = update_v(qvalues, policy)\n",
    "        \n",
    "    return v_new, policy_new, qvalues"
   ]
  },
  {
   "cell_type": "code",
   "execution_count": 18,
   "metadata": {},
   "outputs": [
    {
     "name": "stdout",
     "output_type": "stream",
     "text": [
      "[[ 0.421875    0.          0.          0.        ]\n",
      " [ 0.00421875         nan  0.          0.        ]\n",
      " [ 0.00421875  0.00421875  0.421875    0.00421875]]\n",
      "current epsilon: 0.42187\n",
      "current epsilon: 0.31641\n",
      "current epsilon: 0.23730\n"
     ]
    }
   ],
   "source": [
    "v_final, policy_final, qvalues = value_iteration(qvalues_2, vvalues_2, policy_2, 0.001)"
   ]
  },
  {
   "cell_type": "code",
   "execution_count": 19,
   "metadata": {},
   "outputs": [
    {
     "data": {
      "text/plain": [
       "<matplotlib.text.Text at 0x111c1e550>"
      ]
     },
     "execution_count": 19,
     "metadata": {},
     "output_type": "execute_result"
    },
    {
     "data": {
      "image/png": "[encoded data removed]",
      "text/plain": [
       "<matplotlib.figure.Figure at 0x111c04c18>"
      ]
     },
     "metadata": {},
     "output_type": "display_data"
    }
   ],
   "source": [
    "sns.heatmap(v_final, cmap='RdBu', annot=True, cbar = False, annot_kws={\"size\": 14})\n",
    "plt.title('Converged Values of V(s)')"
   ]
  },
  {
   "cell_type": "markdown",
   "metadata": {},
   "source": [
    "## Why are these our V values?\n",
    "\n",
    "1. Discount factor for future reward ($\\gamma$)\n",
    "2. Small negative value of most squares (-0.01)\n",
    "3. Large negative value of one square (-1)\n",
    "4. Veering off course 5% of time into undesirable squares"
   ]
  },
  {
   "cell_type": "code",
   "execution_count": 20,
   "metadata": {},
   "outputs": [
    {
     "data": {
      "text/html": [
       "<div>\n",
       "<style>\n",
       "    .dataframe thead tr:only-child th {\n",
       "        text-align: right;\n",
       "    }\n",
       "\n",
       "    .dataframe thead th {\n",
       "        text-align: left;\n",
       "    }\n",
       "\n",
       "    .dataframe tbody tr th {\n",
       "        vertical-align: top;\n",
       "    }\n",
       "</style>\n",
       "<table border=\"1\" class=\"dataframe\">\n",
       "  <thead>\n",
       "    <tr style=\"text-align: right;\">\n",
       "      <th></th>\n",
       "      <th>0</th>\n",
       "      <th>1</th>\n",
       "      <th>2</th>\n",
       "      <th>3</th>\n",
       "    </tr>\n",
       "  </thead>\n",
       "  <tbody>\n",
       "    <tr>\n",
       "      <th>0</th>\n",
       "      <td>right</td>\n",
       "      <td>right</td>\n",
       "      <td>right</td>\n",
       "      <td>exit</td>\n",
       "    </tr>\n",
       "    <tr>\n",
       "      <th>1</th>\n",
       "      <td>up</td>\n",
       "      <td></td>\n",
       "      <td>up</td>\n",
       "      <td>exit</td>\n",
       "    </tr>\n",
       "    <tr>\n",
       "      <th>2</th>\n",
       "      <td>up</td>\n",
       "      <td>right</td>\n",
       "      <td>up</td>\n",
       "      <td>left</td>\n",
       "    </tr>\n",
       "  </tbody>\n",
       "</table>\n",
       "</div>"
      ],
      "text/plain": [
       "       0      1      2     3\n",
       "0  right  right  right  exit\n",
       "1     up            up  exit\n",
       "2     up  right     up  left"
      ]
     },
     "execution_count": 20,
     "metadata": {},
     "output_type": "execute_result"
    }
   ],
   "source": [
    "policy_final"
   ]
  },
  {
   "cell_type": "code",
   "execution_count": 21,
   "metadata": {},
   "outputs": [
    {
     "data": {
      "text/plain": [
       "array([[3, 3, 3, 0],\n",
       "       [0, 0, 0, 0],\n",
       "       [0, 3, 0, 2]])"
      ]
     },
     "execution_count": 21,
     "metadata": {},
     "output_type": "execute_result"
    }
   ],
   "source": [
    "qvalues.argmax(-1)"
   ]
  },
  {
   "cell_type": "markdown",
   "metadata": {},
   "source": [
    "# But what if you can't do dynamic programming?\n",
    "\n",
    "\n",
    "## Dynamic Programming requires the transition probabilities between states to be known\n",
    "\n",
    "## How can we estimate $Q(s,a)$ without a model of these transitions?\n",
    "\n",
    "---\n",
    "\n",
    "\n",
    "\n",
    "# SARSA is both model-free and on-policy\n",
    "\n",
    "SARSA: State, Action, Reward, State, Action\n",
    "\n",
    "Model-free: no need to know transition probabilities\n",
    "\n",
    "On-Policy: Estimates Q-values based on the action of the current policy\n",
    "\n",
    "\n",
    "---\n",
    "\n",
    "\n",
    "# Remember $$Q(s,a)=\\sum_{s'}P(s'|s,a)\\left(R(s,a,s') + \\gamma V^*(s')\\right)$$\n",
    "\n",
    "\n",
    "Which is the average reward of taking action $a$ when you're in state $s$ and following the optimal policy from there\n",
    "\n",
    "###  Why can't we make an update equation for our estimates of $Q(s,a)$ based on our experiences with the environment?\n",
    "\n",
    "\n",
    "# With update $\\alpha$, we get an exponentially weighted average of $Q(s,a)$\n",
    "\n",
    "\n",
    "\n",
    "# $$Q(s,a) \\leftarrow Q(s,a) + \\alpha\\big[r+\\gamma Q(s',a') - Q(s,a)\\big]$$\n",
    "\n",
    "\n",
    "---\n",
    "\n",
    "## Let's redo this with SARSA"
   ]
  },
  {
   "cell_type": "code",
   "execution_count": 22,
   "metadata": {
    "collapsed": true
   },
   "outputs": [],
   "source": [
    "gamma = .99\n",
    "start = [2,0]\n",
    "epsilon = .1\n",
    "nactions = len(actions)\n",
    "q_values = np.zeros(np.shape(grid) + (nactions,))\n",
    "q_value_observations = np.zeros(np.shape(grid) + (nactions,))\n",
    "epsilon = 0.1"
   ]
  },
  {
   "cell_type": "code",
   "execution_count": 23,
   "metadata": {
    "collapsed": true
   },
   "outputs": [],
   "source": [
    "def update_policy_frame(policy_frame, policy):\n",
    "    for r in range(row):\n",
    "        for c in range(col):\n",
    "            if np.isfinite(policy[r,c]):\n",
    "                policy_frame[c].ix[r] = actions[int(policy[r,c])]\n",
    "    return policy_frame\n",
    "\n",
    "\n",
    "def epsilon_greedy(r, c, grid, pol, e=epsilon):\n",
    "    if abs(grid[r,c]) == 1:\n",
    "        return np.nan\n",
    "    elif grid[r, c] == -0.01:\n",
    "        flip = bool(np.random.binomial(1, e, size=None))\n",
    "        if flip:\n",
    "            new_choice = np.random.choice(list(range(nactions))) \n",
    "            return new_choice      \n",
    "        else:\n",
    "            return pol[r,c]\n",
    "    else:\n",
    "        return np.nan\n",
    "    \n",
    "def get_next_state(action):\n",
    "    return np.random.choice(list(range(nactions)), p=np.squeeze(transition[actions[action]])) \n",
    "\n",
    "def update_policy(qvalues, pol):\n",
    "    '''\n",
    "    updates the policy based on the qvalues\n",
    "    recall that v*(s) = max(q*(s,a))\n",
    "    also pi*(s) = argmax(q*(s,a))\n",
    "    '''\n",
    "    pol_indices = np.nanargmax(qvalues, axis = 2)\n",
    "    pol_indices = pol_indices.astype(float)\n",
    "    pol_indices[1,1] = np.nan\n",
    "    pol_indices[0,3] = np.nan\n",
    "    pol_indices[1,3] = np.nan\n",
    "    return pol_indices\n",
    "\n",
    "def sarsa_equation(qv, old_tuple, a, r, g, new_tuple):\n",
    "    q_k = qv[old_tuple]\n",
    "    update = q_k + a * (r + g * qv[new_tuple] - q_k)\n",
    "    return update\n",
    "\n",
    "def sarsa_update(r, c, action, alpha, grid, pol):\n",
    "    action = int(action)\n",
    "    viz = np.zeros((row, col))\n",
    "    viz[r, c] += 1  \n",
    "    old = (r, c, action)\n",
    "    noisy_action = get_next_state(action)\n",
    "    r_prime, c_prime = index_grid(r, c, actions[noisy_action])\n",
    "    #pdb.set_trace()\n",
    "    if (r_prime == 1) and (c_prime == 1):\n",
    "        r_prime = r\n",
    "        c_prime = c\n",
    "    viz[r_prime, c_prime] += 2\n",
    "    #print(viz)\n",
    "    reward = grid[r, c]\n",
    "    action_prime = epsilon_greedy(r_prime, c_prime, grid, pol)\n",
    "    if np.isfinite(action_prime):\n",
    "        action_prime = int(action_prime)\n",
    "        #print((\"next action is action %d: %s\" % (action_prime, actions[action_prime])))\n",
    "        #print(('current q_value is %.2f' % q_k))\n",
    "        #print(('next q_value is  %.2f' % q_values[r_prime, c_prime, action_prime]))\n",
    "        #'q(s,a) += alpha*(r(s,a,s_prime) + gamma*q(s_prime, a_prime) - q(s,a))'\n",
    "        #if (r_prime == r and c_prime == c) and q_k != 0:\n",
    "            #pdb.set_trace()\n",
    "        #q_update = q_k + alpha * (reward + gamma * q_values[r_prime, c_prime, action_prime] - q_k)\n",
    "        new = (r_prime, c_prime, action_prime)\n",
    "        \n",
    "    else:\n",
    "        #pdb.set_trace()\n",
    "        #q_update = q_k + alpha * (reward + gamma * q_values[r_prime, c_prime, 0] - q_k)\n",
    "        new = (r_prime, c_prime,0)\n",
    "        \n",
    "    q_update = sarsa_equation(q_values, old, alpha, reward, gamma, new)\n",
    "        \n",
    "    if q_update > 1: #or q_update != -0.01:\n",
    "        pdb.set_trace()\n",
    "    return q_update, r_prime, c_prime, action_prime\n",
    "\n",
    "def experiment(alpha, grid, pol, epsilon):\n",
    "    n_moves = 0\n",
    "    total_reward = 0 \n",
    "    r, c = int(start[0]), int(start[1])\n",
    "    action = int(epsilon_greedy(r,c, grid, pol, epsilon))\n",
    "    while np.isfinite(action):\n",
    "        #print((\"at row %d column %d taking action %d: %s\" % (r, c, action, actions[action])))\n",
    "        #print(('action is %d' % action))\n",
    "        #print('policy is')\n",
    "        #print(pol)\n",
    "        #print('running sarsa update')\n",
    "        q_value_observations[r,c,action] += 1\n",
    "        q_update, r_prime, c_prime, action_prime = sarsa_update(r, c, action, alpha, grid, pol)\n",
    "        #print('q_update is %0.2f' % q_update)\n",
    "        q_values[r, c, action] = q_update\n",
    "        new_policy = update_policy(q_values, pol)\n",
    "        #print('policy is') \n",
    "        #print(pol)\n",
    "        #print() \n",
    "        #print('new policy is')\n",
    "        #print(new_policy) \n",
    "        pol = new_policy\n",
    "        #print('policy is now')\n",
    "        #print(pol)\n",
    "        r = r_prime\n",
    "        c = c_prime\n",
    "        action = action_prime\n",
    "        n_moves += 1\n",
    "        total_reward += grid[r, c]\n",
    "        #print() \n",
    "        #print(q_values)\n",
    "        #pdb.set_trace()\n",
    "    if grid[r, c] == 1:\n",
    "        print('terminating at goal')\n",
    "        q_values[r, c, :] = grid[r,c]\n",
    "    elif grid[r,c] == -1:\n",
    "        print('terminating at pit')\n",
    "        q_values[r,c, :] += alpha * (grid[r,c] - q_values[r,c, :])\n",
    "    else:\n",
    "        print(r) \n",
    "        print(c)\n",
    "        #pdb.set_trace()\n",
    "    \n",
    "    return pol, n_moves, total_reward, grid[r,c] == 1"
   ]
  },
  {
   "cell_type": "code",
   "execution_count": 24,
   "metadata": {},
   "outputs": [
    {
     "name": "stdout",
     "output_type": "stream",
     "text": [
      "experiment 0\n",
      "terminating at pit\n",
      "experiment 1\n",
      "terminating at pit\n",
      "experiment 2\n",
      "terminating at pit\n",
      "experiment 3\n",
      "terminating at goal\n",
      "experiment 4\n",
      "terminating at goal\n",
      "experiment 5"
     ]
    },
    {
     "name": "stderr",
     "output_type": "stream",
     "text": [
      "/Users/4d/anaconda/lib/python3.5/site-packages/ipykernel/__main__.py:5: DeprecationWarning: \n",
      ".ix is deprecated. Please use\n",
      ".loc for label based indexing or\n",
      ".iloc for positional indexing\n",
      "\n",
      "See the documentation here:\n",
      "http://pandas.pydata.org/pandas-docs/stable/indexing.html#deprecate_ix\n",
      "/Users/4d/anaconda/lib/python3.5/site-packages/ipykernel/__main__.py:14: DeprecationWarning: \n",
      ".ix is deprecated. Please use\n",
      ".loc for label based indexing or\n",
      ".iloc for positional indexing\n",
      "\n",
      "See the documentation here:\n",
      "http://pandas.pydata.org/pandas-docs/stable/indexing.html#deprecate_ix\n"
     ]
    },
    {
     "name": "stdout",
     "output_type": "stream",
     "text": [
      "\n",
      "terminating at goal\n",
      "experiment 6\n",
      "terminating at goal\n",
      "experiment 7\n",
      "terminating at goal\n",
      "experiment 8\n",
      "terminating at pit\n",
      "experiment 9\n",
      "terminating at pit\n",
      "experiment 10\n",
      "terminating at goal\n",
      "experiment 11\n",
      "terminating at goal\n",
      "experiment 12\n",
      "terminating at goal\n",
      "experiment 13\n",
      "terminating at goal\n",
      "experiment 14\n",
      "terminating at goal\n",
      "experiment 15\n",
      "terminating at goal\n",
      "experiment 16\n",
      "terminating at pit\n",
      "experiment 17\n",
      "terminating at goal\n",
      "experiment 18\n",
      "terminating at goal\n",
      "experiment 19\n",
      "terminating at pit\n",
      "experiment 20\n",
      "terminating at goal\n",
      "experiment 21\n",
      "terminating at goal\n",
      "experiment 22\n",
      "terminating at goal\n",
      "experiment 23\n",
      "terminating at goal\n",
      "experiment 24\n",
      "terminating at pit\n",
      "experiment 25\n",
      "terminating at goal\n",
      "experiment 26\n",
      "terminating at goal\n",
      "experiment 27\n",
      "terminating at goal\n",
      "experiment 28\n",
      "terminating at goal\n",
      "experiment 29\n",
      "terminating at goal\n",
      "experiment 30\n",
      "terminating at goal\n",
      "experiment 31\n",
      "terminating at goal\n",
      "experiment 32\n",
      "terminating at goal\n",
      "experiment 33\n",
      "terminating at goal\n",
      "experiment 34\n",
      "terminating at goal\n",
      "experiment 35\n",
      "terminating at goal\n",
      "experiment 36\n",
      "terminating at pit\n",
      "experiment 37\n",
      "terminating at pit\n",
      "experiment 38\n",
      "terminating at goal\n",
      "experiment 39\n",
      "terminating at goal\n",
      "experiment 40\n",
      "terminating at goal\n",
      "experiment 41\n",
      "terminating at goal\n",
      "experiment 42\n",
      "terminating at goal\n",
      "experiment 43\n",
      "terminating at goal\n",
      "experiment 44\n",
      "terminating at goal\n",
      "experiment 45\n",
      "terminating at goal\n",
      "experiment 46\n",
      "terminating at goal\n",
      "experiment 47\n",
      "terminating at goal\n",
      "experiment 48\n",
      "terminating at goal\n",
      "experiment 49\n",
      "terminating at goal\n",
      "experiment 50\n",
      "terminating at goal\n",
      "experiment 51\n",
      "terminating at goal\n",
      "experiment 52\n",
      "terminating at goal\n",
      "experiment 53\n",
      "terminating at goal\n",
      "experiment 54\n",
      "terminating at goal\n",
      "experiment 55\n",
      "terminating at goal\n",
      "experiment 56\n",
      "terminating at goal\n",
      "experiment 57\n",
      "terminating at goal\n",
      "experiment 58\n",
      "terminating at goal\n",
      "experiment 59\n",
      "terminating at goal\n",
      "experiment 60\n",
      "terminating at goal\n",
      "experiment 61\n",
      "terminating at goal\n",
      "experiment 62\n",
      "terminating at goal\n",
      "experiment 63\n",
      "terminating at goal\n",
      "experiment 64\n",
      "terminating at goal\n",
      "experiment 65\n",
      "terminating at goal\n",
      "experiment 66\n",
      "terminating at goal\n",
      "experiment 67\n",
      "terminating at goal\n",
      "experiment 68\n",
      "terminating at goal\n",
      "experiment 69\n",
      "terminating at goal\n",
      "experiment 70\n",
      "terminating at goal\n",
      "experiment 71\n",
      "terminating at goal\n",
      "experiment 72\n",
      "terminating at goal\n",
      "experiment 73\n",
      "terminating at goal\n",
      "experiment 74\n",
      "terminating at goal\n",
      "experiment 75\n",
      "terminating at goal\n",
      "experiment 76\n",
      "terminating at goal\n",
      "experiment 77\n",
      "terminating at goal\n",
      "experiment 78\n",
      "terminating at goal\n",
      "experiment 79\n",
      "terminating at goal\n",
      "experiment 80\n",
      "terminating at goal\n",
      "experiment 81\n",
      "terminating at goal\n",
      "experiment 82\n",
      "terminating at goal\n",
      "experiment 83\n",
      "terminating at goal\n",
      "experiment 84\n",
      "terminating at goal\n",
      "experiment 85\n",
      "terminating at goal\n",
      "experiment 86\n",
      "terminating at goal\n",
      "experiment 87\n",
      "terminating at goal\n",
      "experiment 88\n",
      "terminating at goal\n",
      "experiment 89\n",
      "terminating at goal\n",
      "experiment 90\n",
      "terminating at goal\n",
      "experiment 91\n",
      "terminating at goal\n",
      "experiment 92\n",
      "terminating at goal\n",
      "experiment 93\n",
      "terminating at goal\n",
      "experiment 94\n",
      "terminating at goal\n",
      "experiment 95\n",
      "terminating at goal\n",
      "experiment 96\n",
      "terminating at goal\n",
      "experiment 97\n",
      "terminating at goal\n",
      "experiment 98\n",
      "terminating at goal\n",
      "experiment 99\n",
      "terminating at goal\n",
      "experiment 100\n",
      "terminating at goal\n",
      "experiment 101\n",
      "terminating at goal\n",
      "experiment 102\n",
      "terminating at goal\n",
      "experiment 103\n",
      "terminating at goal\n",
      "experiment 104\n",
      "terminating at goal\n",
      "experiment 105\n",
      "terminating at goal\n",
      "experiment 106\n",
      "terminating at goal\n",
      "experiment 107\n",
      "terminating at goal\n",
      "experiment 108\n",
      "terminating at goal\n",
      "experiment 109\n",
      "terminating at goal\n",
      "experiment 110\n",
      "terminating at goal\n",
      "experiment 111\n",
      "terminating at goal\n",
      "experiment 112\n",
      "terminating at goal\n",
      "experiment 113\n",
      "terminating at goal\n",
      "experiment 114\n",
      "terminating at goal\n",
      "experiment 115\n",
      "terminating at goal\n",
      "experiment 116\n",
      "terminating at goal\n",
      "experiment 117\n",
      "terminating at goal\n",
      "experiment 118\n",
      "terminating at goal\n",
      "experiment 119\n",
      "terminating at goal\n",
      "experiment 120\n",
      "terminating at goal\n",
      "experiment 121\n",
      "terminating at goal\n",
      "experiment 122\n",
      "terminating at goal\n",
      "experiment 123\n",
      "terminating at goal\n",
      "experiment 124\n",
      "terminating at goal\n",
      "experiment 125\n",
      "terminating at goal\n",
      "experiment 126\n",
      "terminating at goal\n",
      "experiment 127\n",
      "terminating at goal\n",
      "experiment 128\n",
      "terminating at goal\n",
      "experiment 129\n",
      "terminating at goal\n",
      "experiment 130\n",
      "terminating at goal\n",
      "experiment 131\n",
      "terminating at goal\n",
      "experiment 132\n",
      "terminating at goal\n",
      "experiment 133\n",
      "terminating at goal\n",
      "experiment 134\n",
      "terminating at goal\n",
      "experiment 135\n",
      "terminating at pit\n",
      "experiment 136\n",
      "terminating at goal\n",
      "experiment 137\n",
      "terminating at pit\n",
      "experiment 138\n",
      "terminating at goal\n",
      "experiment 139\n",
      "terminating at goal\n",
      "experiment 140\n",
      "terminating at pit\n",
      "experiment 141\n",
      "terminating at goal\n",
      "experiment 142\n",
      "terminating at goal\n",
      "experiment 143\n",
      "terminating at goal\n",
      "experiment 144\n",
      "terminating at goal\n",
      "experiment 145\n",
      "terminating at goal\n",
      "experiment 146\n",
      "terminating at goal\n",
      "experiment 147\n",
      "terminating at goal\n",
      "experiment 148\n",
      "terminating at goal\n",
      "experiment 149\n",
      "terminating at goal\n",
      "experiment 150\n",
      "terminating at goal\n",
      "experiment 151\n",
      "terminating at goal\n",
      "experiment 152\n",
      "terminating at goal\n",
      "experiment 153\n",
      "terminating at goal\n",
      "experiment 154\n",
      "terminating at goal\n",
      "experiment 155\n",
      "terminating at goal\n",
      "experiment 156\n",
      "terminating at goal\n",
      "experiment 157\n",
      "terminating at goal\n",
      "experiment 158\n",
      "terminating at goal\n",
      "experiment 159\n",
      "terminating at goal\n",
      "experiment 160\n",
      "terminating at goal\n",
      "experiment 161\n",
      "terminating at goal\n",
      "experiment 162\n",
      "terminating at goal\n",
      "experiment 163\n",
      "terminating at goal\n",
      "experiment 164\n",
      "terminating at goal\n",
      "experiment 165\n",
      "terminating at goal\n",
      "experiment 166\n",
      "terminating at goal\n",
      "experiment 167\n",
      "terminating at goal\n",
      "experiment 168\n",
      "terminating at goal\n",
      "experiment 169\n",
      "terminating at goal\n",
      "experiment 170\n",
      "terminating at goal\n",
      "experiment 171\n",
      "terminating at goal\n",
      "experiment 172\n",
      "terminating at goal\n",
      "experiment 173\n",
      "terminating at goal\n",
      "experiment 174\n",
      "terminating at pit\n",
      "experiment 175\n",
      "terminating at goal\n",
      "experiment 176\n",
      "terminating at goal\n",
      "experiment 177\n",
      "terminating at goal\n",
      "experiment 178\n",
      "terminating at goal\n",
      "experiment 179\n",
      "terminating at goal\n",
      "experiment 180\n",
      "terminating at goal\n",
      "experiment 181\n",
      "terminating at goal\n",
      "experiment 182\n",
      "terminating at goal\n",
      "experiment 183\n",
      "terminating at goal\n",
      "experiment 184\n",
      "terminating at goal\n",
      "experiment 185\n",
      "terminating at goal\n",
      "experiment 186\n",
      "terminating at goal\n",
      "experiment 187\n",
      "terminating at goal\n",
      "experiment 188\n",
      "terminating at goal\n",
      "experiment 189\n",
      "terminating at goal\n",
      "experiment 190\n",
      "terminating at goal\n",
      "experiment 191\n",
      "terminating at goal\n",
      "experiment 192\n",
      "terminating at goal\n",
      "experiment 193\n",
      "terminating at goal\n",
      "experiment 194\n",
      "terminating at goal\n",
      "experiment 195\n",
      "terminating at goal\n",
      "experiment 196\n",
      "terminating at goal\n",
      "experiment 197\n",
      "terminating at goal\n",
      "experiment 198\n",
      "terminating at goal\n",
      "experiment 199\n",
      "terminating at goal\n"
     ]
    }
   ],
   "source": [
    "sarsa_pol = q_values.argmax(-1).astype(float)\n",
    "sarsa_frame = pd.DataFrame([['unknown', 'unknown', 'unknown', 'exit'],\n",
    "                       ['unknown', '', 'unknown', 'exit'],\n",
    "                       ['unknown', 'unknown', 'unknown', 'unknown']])\n",
    "n_experiments = 200\n",
    "sarsa_results = pd.DataFrame(index=(range(n_experiments)), columns=['moves', 'total_reward', 'hit_goal', 'epsilon'])\n",
    "\n",
    "for i in range(n_experiments):\n",
    "    print('experiment %d' % i)\n",
    "    alpha = 0.5\n",
    "    sarsa_pol, total_moves, total_reward, hit_goal = experiment(alpha, grid, sarsa_pol, epsilon)\n",
    "    sarsa_frame = update_policy_frame(sarsa_frame, sarsa_pol)\n",
    "    sarsa_results.ix[i] = pd.Series(data=[total_moves, total_reward, hit_goal, epsilon],\n",
    "                                    index=list(sarsa_results.columns))\n",
    "    epsilon = 1./((i/50) + 10)\n",
    "    #print policy_frame\n",
    "    #print"
   ]
  },
  {
   "cell_type": "code",
   "execution_count": 25,
   "metadata": {},
   "outputs": [
    {
     "data": {
      "text/html": [
       "<div>\n",
       "<style>\n",
       "    .dataframe thead tr:only-child th {\n",
       "        text-align: right;\n",
       "    }\n",
       "\n",
       "    .dataframe thead th {\n",
       "        text-align: left;\n",
       "    }\n",
       "\n",
       "    .dataframe tbody tr th {\n",
       "        vertical-align: top;\n",
       "    }\n",
       "</style>\n",
       "<table border=\"1\" class=\"dataframe\">\n",
       "  <thead>\n",
       "    <tr style=\"text-align: right;\">\n",
       "      <th></th>\n",
       "      <th>0</th>\n",
       "      <th>1</th>\n",
       "      <th>2</th>\n",
       "      <th>3</th>\n",
       "    </tr>\n",
       "  </thead>\n",
       "  <tbody>\n",
       "    <tr>\n",
       "      <th>0</th>\n",
       "      <td>right</td>\n",
       "      <td>right</td>\n",
       "      <td>right</td>\n",
       "      <td>exit</td>\n",
       "    </tr>\n",
       "    <tr>\n",
       "      <th>1</th>\n",
       "      <td>up</td>\n",
       "      <td></td>\n",
       "      <td>up</td>\n",
       "      <td>exit</td>\n",
       "    </tr>\n",
       "    <tr>\n",
       "      <th>2</th>\n",
       "      <td>up</td>\n",
       "      <td>left</td>\n",
       "      <td>left</td>\n",
       "      <td>left</td>\n",
       "    </tr>\n",
       "  </tbody>\n",
       "</table>\n",
       "</div>"
      ],
      "text/plain": [
       "       0      1      2     3\n",
       "0  right  right  right  exit\n",
       "1     up            up  exit\n",
       "2     up   left   left  left"
      ]
     },
     "execution_count": 25,
     "metadata": {},
     "output_type": "execute_result"
    }
   ],
   "source": [
    "sarsa_frame"
   ]
  },
  {
   "cell_type": "code",
   "execution_count": 26,
   "metadata": {},
   "outputs": [
    {
     "data": {
      "text/plain": [
       "array([[[ 0.75106961,  0.61561459,  0.6187755 ,  0.9343598 ],\n",
       "        [ 0.57945488,  0.59953239,  0.62718656,  0.90632845],\n",
       "        [ 0.57226626,  0.46494454,  0.6524835 ,  0.92729387],\n",
       "        [ 1.        ,  1.        ,  1.        ,  1.        ]],\n",
       "\n",
       "       [[ 0.8848373 ,  0.63224456,  0.60958037,  0.7056146 ],\n",
       "        [ 0.        ,  0.        ,  0.        ,  0.        ],\n",
       "        [ 0.66286733, -0.48455184, -0.07104703, -0.80442383],\n",
       "        [-0.99993896, -0.99993896, -0.99993896, -0.99993896]],\n",
       "\n",
       "       [[ 0.78673026,  0.59307239,  0.66826556,  0.50074286],\n",
       "        [ 0.34241292,  0.28570449,  0.67207065,  0.43180827],\n",
       "        [-0.03358615, -0.02857891,  0.3710103 , -0.04196928],\n",
       "        [-0.68925415, -0.14978831, -0.03843734, -0.12305785]]])"
      ]
     },
     "execution_count": 26,
     "metadata": {},
     "output_type": "execute_result"
    }
   ],
   "source": [
    "q_values"
   ]
  },
  {
   "cell_type": "code",
   "execution_count": 27,
   "metadata": {},
   "outputs": [
    {
     "data": {
      "text/plain": [
       "array([[[  39.,   75.,   41.,  181.],\n",
       "        [  43.,    6.,   14.,  190.],\n",
       "        [  33.,    5.,   23.,  202.],\n",
       "        [   0.,    0.,    0.,    0.]],\n",
       "\n",
       "       [[ 226.,   54.,   72.,  137.],\n",
       "        [   0.,    0.,    0.,    0.],\n",
       "        [  62.,   39.,   28.,    3.],\n",
       "        [   0.,    0.,    0.,    0.]],\n",
       "\n",
       "       [[ 227.,   50.,   62.,   68.],\n",
       "        [  22.,   10.,   25.,   68.],\n",
       "        [ 100.,    9.,    6.,   18.],\n",
       "        [   3.,   20.,   17.,   19.]]])"
      ]
     },
     "execution_count": 27,
     "metadata": {},
     "output_type": "execute_result"
    }
   ],
   "source": [
    "q_value_observations"
   ]
  },
  {
   "cell_type": "code",
   "execution_count": 28,
   "metadata": {},
   "outputs": [
    {
     "data": {
      "text/plain": [
       "<matplotlib.text.Text at 0x111da5dd8>"
      ]
     },
     "execution_count": 28,
     "metadata": {},
     "output_type": "execute_result"
    },
    {
     "data": {
      "image/png": "[encoded data removed]",
      "text/plain": [
       "<matplotlib.figure.Figure at 0x111cd0a90>"
      ]
     },
     "metadata": {},
     "output_type": "display_data"
    }
   ],
   "source": [
    "sns.heatmap(q_value_observations.sum(-1), cbar=False, annot=True, fmt='.0f', annot_kws={\"size\": 14})\n",
    "plt.title('Visits to Each State')"
   ]
  },
  {
   "cell_type": "code",
   "execution_count": 29,
   "metadata": {},
   "outputs": [
    {
     "data": {
      "text/html": [
       "<div>\n",
       "<style>\n",
       "    .dataframe thead tr:only-child th {\n",
       "        text-align: right;\n",
       "    }\n",
       "\n",
       "    .dataframe thead th {\n",
       "        text-align: left;\n",
       "    }\n",
       "\n",
       "    .dataframe tbody tr th {\n",
       "        vertical-align: top;\n",
       "    }\n",
       "</style>\n",
       "<table border=\"1\" class=\"dataframe\">\n",
       "  <thead>\n",
       "    <tr style=\"text-align: right;\">\n",
       "      <th></th>\n",
       "      <th>moves</th>\n",
       "      <th>total_reward</th>\n",
       "      <th>hit_goal</th>\n",
       "      <th>epsilon</th>\n",
       "    </tr>\n",
       "  </thead>\n",
       "  <tbody>\n",
       "    <tr>\n",
       "      <th>195</th>\n",
       "      <td>8</td>\n",
       "      <td>0.93</td>\n",
       "      <td>True</td>\n",
       "      <td>0.0720461</td>\n",
       "    </tr>\n",
       "    <tr>\n",
       "      <th>196</th>\n",
       "      <td>6</td>\n",
       "      <td>0.95</td>\n",
       "      <td>True</td>\n",
       "      <td>0.0719424</td>\n",
       "    </tr>\n",
       "    <tr>\n",
       "      <th>197</th>\n",
       "      <td>7</td>\n",
       "      <td>0.94</td>\n",
       "      <td>True</td>\n",
       "      <td>0.0718391</td>\n",
       "    </tr>\n",
       "    <tr>\n",
       "      <th>198</th>\n",
       "      <td>11</td>\n",
       "      <td>0.9</td>\n",
       "      <td>True</td>\n",
       "      <td>0.071736</td>\n",
       "    </tr>\n",
       "    <tr>\n",
       "      <th>199</th>\n",
       "      <td>5</td>\n",
       "      <td>0.96</td>\n",
       "      <td>True</td>\n",
       "      <td>0.0716332</td>\n",
       "    </tr>\n",
       "  </tbody>\n",
       "</table>\n",
       "</div>"
      ],
      "text/plain": [
       "    moves total_reward hit_goal    epsilon\n",
       "195     8         0.93     True  0.0720461\n",
       "196     6         0.95     True  0.0719424\n",
       "197     7         0.94     True  0.0718391\n",
       "198    11          0.9     True   0.071736\n",
       "199     5         0.96     True  0.0716332"
      ]
     },
     "execution_count": 29,
     "metadata": {},
     "output_type": "execute_result"
    }
   ],
   "source": [
    "sarsa_results.tail()"
   ]
  },
  {
   "cell_type": "code",
   "execution_count": 30,
   "metadata": {},
   "outputs": [
    {
     "data": {
      "text/plain": [
       "<matplotlib.text.Text at 0x111df7c88>"
      ]
     },
     "execution_count": 30,
     "metadata": {},
     "output_type": "execute_result"
    },
    {
     "data": {
      "image/png": "[encoded data removed]",
      "text/plain": [
       "<matplotlib.figure.Figure at 0x111de4f98>"
      ]
     },
     "metadata": {},
     "output_type": "display_data"
    }
   ],
   "source": [
    "sarsa_results.total_reward.plot()\n",
    "plt.title('Total Reward per Experiment')\n",
    "plt.xlabel('Experiment')\n",
    "plt.ylabel('Total Reward')"
   ]
  },
  {
   "cell_type": "code",
   "execution_count": 31,
   "metadata": {},
   "outputs": [
    {
     "data": {
      "text/plain": [
       "<matplotlib.text.Text at 0x111ec05f8>"
      ]
     },
     "execution_count": 31,
     "metadata": {},
     "output_type": "execute_result"
    },
    {
     "data": {
      "image/png": "[encoded data removed]",
      "text/plain": [
       "<matplotlib.figure.Figure at 0x111eb2240>"
      ]
     },
     "metadata": {},
     "output_type": "display_data"
    }
   ],
   "source": [
    "sarsa_results.moves.plot()\n",
    "plt.title('Total Moves per Experiment')\n",
    "plt.xlabel('Experiment')\n",
    "plt.ylabel('Total Moves')"
   ]
  },
  {
   "cell_type": "code",
   "execution_count": 32,
   "metadata": {},
   "outputs": [
    {
     "data": {
      "text/plain": [
       "<matplotlib.text.Text at 0x111faa1d0>"
      ]
     },
     "execution_count": 32,
     "metadata": {},
     "output_type": "execute_result"
    },
    {
     "data": {
      "image/png": "[encoded data removed]",
      "text/plain": [
       "<matplotlib.figure.Figure at 0x111bb4fd0>"
      ]
     },
     "metadata": {},
     "output_type": "display_data"
    }
   ],
   "source": [
    "sarsa_results.epsilon.plot()\n",
    "plt.title('Value of Epsilon Experiment')\n",
    "plt.xlabel('Experiment')\n",
    "plt.ylabel('Epsilon')"
   ]
  },
  {
   "cell_type": "code",
   "execution_count": 33,
   "metadata": {},
   "outputs": [
    {
     "data": {
      "text/plain": [
       "<matplotlib.text.Text at 0x11206cbe0>"
      ]
     },
     "execution_count": 33,
     "metadata": {},
     "output_type": "execute_result"
    },
    {
     "data": {
      "image/png": "[encoded data removed]",
      "text/plain": [
       "<matplotlib.figure.Figure at 0x111fc04a8>"
      ]
     },
     "metadata": {},
     "output_type": "display_data"
    }
   ],
   "source": [
    "sarsa_results.groupby('hit_goal')['total_reward'].count().plot(kind='bar')\n",
    "plt.xticks(rotation=0)\n",
    "plt.title('Agent Reached Coal')\n",
    "plt.ylabel('# Experiments')"
   ]
  }
 ],
 "metadata": {
  "anaconda-cloud": {},
  "kernelspec": {
   "display_name": "Python [default]",
   "language": "python",
   "name": "python3"
  },
  "language_info": {
   "codemirror_mode": {
    "name": "ipython",
    "version": 3
   },
   "file_extension": ".py",
   "mimetype": "text/x-python",
   "name": "python",
   "nbconvert_exporter": "python",
   "pygments_lexer": "ipython3",
   "version": "3.5.3"
  }
 },
 "nbformat": 4,
 "nbformat_minor": 1
}
