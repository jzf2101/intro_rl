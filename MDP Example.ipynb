{
 "cells": [
  {
   "cell_type": "markdown",
   "metadata": {
    "slideshow": {
     "slide_type": "slide"
    }
   },
   "source": [
    "### Markov Decision Processes\n",
    "\n",
    "In Markov Decision Processes, one's actions affect the state of the world.  \n",
    "\n",
    "Given a state $s$ and an action $a$, we know the probability it will end up in the next state $s'$ "
   ]
  },
  {
   "cell_type": "markdown",
   "metadata": {
    "slideshow": {
     "slide_type": "slide"
    }
   },
   "source": [
    "## Value Iteration/Backwards Induction/Dynamic Programming\n",
    "\n",
    "Value iteration estimates the value of the best action at each state, $V^*(s)$, with recursion since\n",
    "\n",
    "$$V^*(s) = \\max_a\\sum_{s'}P(s'|s,a)\\left(R(s,a,s') + \\gamma V^*(s')\\right)$$\n",
    "\n",
    "This equation is also known as the Bellman equation"
   ]
  },
  {
   "cell_type": "markdown",
   "metadata": {
    "slideshow": {
     "slide_type": "slide"
    }
   },
   "source": [
    "Because of the discount factor, $\\gamma$, our estimates will converge with the number of iterations since \n",
    "\n",
    "$$\\mid V^*_i(s) - V^*_{i+1}(s) \\mid  \\leq \\gamma^i\\mid R_{max} - R_{min}\\mid$$ "
   ]
  },
  {
   "cell_type": "markdown",
   "metadata": {
    "slideshow": {
     "slide_type": "slide"
    }
   },
   "source": [
    "## Gridworld Toy Example\n",
    "\n",
    "Gridworld, a typical Reinforcement Learning problem, requires the agent to navigate to a goal location and avoid possible pitfalls"
   ]
  },
  {
   "cell_type": "code",
   "execution_count": 2,
   "metadata": {
    "collapsed": true,
    "slideshow": {
     "slide_type": "skip"
    }
   },
   "outputs": [],
   "source": [
    "import numpy as np\n",
    "import pandas as pd\n",
    "import matplotlib.pyplot as plt\n",
    "import seaborn as sns\n",
    "import pdb\n",
    "\n",
    "sns.set_context('poster')\n",
    "sns.set_palette('colorblind')\n",
    "\n",
    "%matplotlib inline"
   ]
  },
  {
   "cell_type": "markdown",
   "metadata": {
    "slideshow": {
     "slide_type": "slide"
    }
   },
   "source": [
    "### Let's imagine a 3 by 4 grid with 1 goal and 1 pitfall"
   ]
  },
  {
   "cell_type": "code",
   "execution_count": 3,
   "metadata": {
    "collapsed": true,
    "slideshow": {
     "slide_type": "subslide"
    }
   },
   "outputs": [],
   "source": [
    "grid = np.array([[-.01,-.01,-.01,1],[-.01,np.nan, -.01, -1],[-.01,-.01,-.01,-.01]])"
   ]
  },
  {
   "cell_type": "code",
   "execution_count": 4,
   "metadata": {
    "scrolled": true,
    "slideshow": {
     "slide_type": "slide"
    }
   },
   "outputs": [
    {
     "data": {
      "text/plain": [
       "<matplotlib.text.Text at 0x117155cf8>"
      ]
     },
     "execution_count": 4,
     "metadata": {},
     "output_type": "execute_result"
    },
    {
     "data": {
      "image/png": "[encoded data removed]",
      "text/plain": [
       "<matplotlib.figure.Figure at 0x10a729630>"
      ]
     },
     "metadata": {},
     "output_type": "display_data"
    }
   ],
   "source": [
    "sns.heatmap(grid, cmap='RdBu', annot=True, cbar = False, annot_kws={\"size\": 18})\n",
    "plt.title('Reward for Each Grid Square')"
   ]
  },
  {
   "cell_type": "markdown",
   "metadata": {
    "slideshow": {
     "slide_type": "slide"
    }
   },
   "source": [
    "In this world the agent can go up, down, left and right\n",
    "\n",
    "We'll assume 90% of the time the agent ends up going where it wants to go\n",
    "\n",
    "10% of the time it veers off perpendicularly\n",
    "\n",
    "If it ends up in the pitfall or the goal, it's in the `exit` state and the game is over"
   ]
  },
  {
   "cell_type": "code",
   "execution_count": 5,
   "metadata": {
    "collapsed": true,
    "slideshow": {
     "slide_type": "subslide"
    }
   },
   "outputs": [],
   "source": [
    "actions = ['up', 'down', 'left', 'right']\n",
    "transition = pd.DataFrame(np.array([[.9, 0, .05, .05,], [0, .9, .05, .05],\n",
    "                                    [.05, .05, .9, 0],\n",
    "                                    [.05, .05, 0, .9]]),\n",
    "                          index = actions, columns = actions)"
   ]
  },
  {
   "cell_type": "code",
   "execution_count": 6,
   "metadata": {
    "slideshow": {
     "slide_type": "slide"
    }
   },
   "outputs": [
    {
     "data": {
      "text/plain": [
       "<matplotlib.text.Text at 0x1172a6e10>"
      ]
     },
     "execution_count": 6,
     "metadata": {},
     "output_type": "execute_result"
    },
    {
     "data": {
      "image/png": "[encoded data removed]",
      "text/plain": [
       "<matplotlib.figure.Figure at 0x114b20c88>"
      ]
     },
     "metadata": {},
     "output_type": "display_data"
    }
   ],
   "source": [
    "sns.heatmap(transition, annot=True, cbar = False, annot_kws={\"size\": 18})\n",
    "plt.title('Transition Probabilities for Each Action')"
   ]
  },
  {
   "cell_type": "markdown",
   "metadata": {
    "slideshow": {
     "slide_type": "slide"
    }
   },
   "source": [
    "Right now our policy is unknown"
   ]
  },
  {
   "cell_type": "code",
   "execution_count": 7,
   "metadata": {
    "collapsed": true,
    "slideshow": {
     "slide_type": "subslide"
    }
   },
   "outputs": [],
   "source": [
    "policy = pd.DataFrame([['unknown', 'unknown', 'unknown', 'exit'],\n",
    "                       ['unknown', '', 'unknown', 'exit'],\n",
    "                       ['unknown', 'unknown', 'unknown', 'unknown']])"
   ]
  },
  {
   "cell_type": "code",
   "execution_count": 8,
   "metadata": {
    "scrolled": true,
    "slideshow": {
     "slide_type": "slide"
    }
   },
   "outputs": [
    {
     "data": {
      "text/html": [
       "<div>\n",
       "<style>\n",
       "    .dataframe thead tr:only-child th {\n",
       "        text-align: right;\n",
       "    }\n",
       "\n",
       "    .dataframe thead th {\n",
       "        text-align: left;\n",
       "    }\n",
       "\n",
       "    .dataframe tbody tr th {\n",
       "        vertical-align: top;\n",
       "    }\n",
       "</style>\n",
       "<table border=\"1\" class=\"dataframe\">\n",
       "  <thead>\n",
       "    <tr style=\"text-align: right;\">\n",
       "      <th></th>\n",
       "      <th>0</th>\n",
       "      <th>1</th>\n",
       "      <th>2</th>\n",
       "      <th>3</th>\n",
       "    </tr>\n",
       "  </thead>\n",
       "  <tbody>\n",
       "    <tr>\n",
       "      <th>0</th>\n",
       "      <td>unknown</td>\n",
       "      <td>unknown</td>\n",
       "      <td>unknown</td>\n",
       "      <td>exit</td>\n",
       "    </tr>\n",
       "    <tr>\n",
       "      <th>1</th>\n",
       "      <td>unknown</td>\n",
       "      <td></td>\n",
       "      <td>unknown</td>\n",
       "      <td>exit</td>\n",
       "    </tr>\n",
       "    <tr>\n",
       "      <th>2</th>\n",
       "      <td>unknown</td>\n",
       "      <td>unknown</td>\n",
       "      <td>unknown</td>\n",
       "      <td>unknown</td>\n",
       "    </tr>\n",
       "  </tbody>\n",
       "</table>\n",
       "</div>"
      ],
      "text/plain": [
       "         0        1        2        3\n",
       "0  unknown  unknown  unknown     exit\n",
       "1  unknown           unknown     exit\n",
       "2  unknown  unknown  unknown  unknown"
      ]
     },
     "execution_count": 8,
     "metadata": {},
     "output_type": "execute_result"
    }
   ],
   "source": [
    "policy"
   ]
  },
  {
   "cell_type": "markdown",
   "metadata": {
    "slideshow": {
     "slide_type": "slide"
    }
   },
   "source": [
    "## We'll now use Value Iteration to Solve for the Optimal Policy\n",
    "\n",
    "Assume the discount factor is $0.75$\n",
    "\n",
    "Let's set up our table for our q values and v values.  Recall that q is indexed by state and action while v is indexed by states."
   ]
  },
  {
   "cell_type": "code",
   "execution_count": 9,
   "metadata": {
    "collapsed": true,
    "slideshow": {
     "slide_type": "subslide"
    }
   },
   "outputs": [],
   "source": [
    "gamma = 0.75\n",
    "row, col = np.shape(grid)\n",
    "nactions = len(actions)\n",
    "\n",
    "q_values = np.zeros((row,col,nactions))\n",
    "v_values = np.copy(grid)"
   ]
  },
  {
   "cell_type": "code",
   "execution_count": 10,
   "metadata": {
    "slideshow": {
     "slide_type": "slide"
    }
   },
   "outputs": [
    {
     "data": {
      "text/plain": [
       "<matplotlib.text.Text at 0x1173d02e8>"
      ]
     },
     "execution_count": 10,
     "metadata": {},
     "output_type": "execute_result"
    },
    {
     "data": {
      "image/png": "[encoded data removed]",
      "text/plain": [
       "<matplotlib.figure.Figure at 0x1172929b0>"
      ]
     },
     "metadata": {},
     "output_type": "display_data"
    }
   ],
   "source": [
    "sns.heatmap(v_values, annot=True, cbar=False, annot_kws={\"size\": 14})\n",
    "plt.title('Naive Estimates of V(s) \\n After 0 Iterations')"
   ]
  },
  {
   "cell_type": "code",
   "execution_count": 16,
   "metadata": {
    "slideshow": {
     "slide_type": "slide"
    }
   },
   "outputs": [
    {
     "data": {
      "text/plain": [
       "array([[[ 0.,  0.,  0.,  0.],\n",
       "        [ 0.,  0.,  0.,  0.],\n",
       "        [ 0.,  0.,  0.,  0.],\n",
       "        [ 0.,  0.,  0.,  0.]],\n",
       "\n",
       "       [[ 0.,  0.,  0.,  0.],\n",
       "        [ 0.,  0.,  0.,  0.],\n",
       "        [ 0.,  0.,  0.,  0.],\n",
       "        [ 0.,  0.,  0.,  0.]],\n",
       "\n",
       "       [[ 0.,  0.,  0.,  0.],\n",
       "        [ 0.,  0.,  0.,  0.],\n",
       "        [ 0.,  0.,  0.,  0.],\n",
       "        [ 0.,  0.,  0.,  0.]]])"
      ]
     },
     "execution_count": 16,
     "metadata": {},
     "output_type": "execute_result"
    }
   ],
   "source": [
    "q_values"
   ]
  },
  {
   "cell_type": "markdown",
   "metadata": {
    "slideshow": {
     "slide_type": "skip"
    }
   },
   "source": [
    "Now we'll write a function to translate actions into movements on the grid"
   ]
  },
  {
   "cell_type": "code",
   "execution_count": 17,
   "metadata": {
    "collapsed": true,
    "slideshow": {
     "slide_type": "skip"
    }
   },
   "outputs": [],
   "source": [
    "def index_grid(r, c, action):\n",
    "    '''\n",
    "    finds the right index for the next state based on the action name\n",
    "    if the agent tries to go in the direction of a wall or edge,\n",
    "    the agent says in the same place\n",
    "    \n",
    "    Args:\n",
    "        r: row\n",
    "        c: column\n",
    "        action: action name\n",
    "    \n",
    "    Returns:\n",
    "        r: updated row\n",
    "        c: updated column\n",
    "    '''\n",
    "    if  action == 'up':\n",
    "        if r > 0:\n",
    "            r -= 1\n",
    "    if action == 'down':\n",
    "        if r < row - 1:\n",
    "            r += 1\n",
    "    if action == 'left':\n",
    "        if c > 0:\n",
    "            c -= 1\n",
    "    if action == 'right':\n",
    "        if c < col - 1:\n",
    "            c += 1\n",
    "    return r, c"
   ]
  },
  {
   "cell_type": "markdown",
   "metadata": {
    "slideshow": {
     "slide_type": "slide"
    }
   },
   "source": [
    "Now we'll write a function to update the q values based on value iteration (backwards dynamic programming)"
   ]
  },
  {
   "cell_type": "markdown",
   "metadata": {
    "slideshow": {
     "slide_type": "slide"
    }
   },
   "source": [
    "```python\n",
    "for s in states:\n",
    "    if s in exit_states:\n",
    "        # if we're in the exit state, no need to compute transitions\n",
    "        q[s, :] = v[s]\n",
    "        continue\n",
    "    for a in actions:\n",
    "        for s_prime in next_states[a]:\n",
    "            # else, we calculate the discounted reward for each triple of\n",
    "            # state, action, and new state which is\n",
    "            # reward + discount_factor * future_v_value\n",
    "            discounted_reward[s_prime] = rewards[s, a, s_prime] + gamma*v[s_prime]\n",
    "        # updated q value is the expected value of the discounted rewards\n",
    "        # which is the sum(discounted_reward * p_discounted_reward)\n",
    "        qvalues[s,a] = np.dot(discounted_rewards, transitions[s, a])\n",
    "```"
   ]
  },
  {
   "cell_type": "code",
   "execution_count": 32,
   "metadata": {
    "collapsed": true,
    "slideshow": {
     "slide_type": "skip"
    }
   },
   "outputs": [],
   "source": [
    "def update_q(qvalues, vvalues):\n",
    "    '''\n",
    "    updates the value of each action given the current state and possible future states\n",
    "    recall that the value of each action is the expected value of the current action \n",
    "    + future scenarios (see bellman equation above)\n",
    "    \n",
    "    Args:\n",
    "        qvalues: array of qvalues for each state, action pair\n",
    "        vvalues: array of vvalues for each state\n",
    "    \n",
    "    Returns:\n",
    "        qvalues: updated qvalues\n",
    "    '''\n",
    "    for r in range(row):\n",
    "        for c in range(col):\n",
    "            #if we are in the exit squares, there is no where else to go so the value is fixed\n",
    "            if abs(v_values[r, c]) == 1:\n",
    "                qvalues[r, c, :] = v_values[r, c]\n",
    "                continue\n",
    "            #if we're in a nan square we can assume there's no value for that state\n",
    "            elif np.isnan(grid[r, c]):\n",
    "                qvalues[r, c, :] = np.nan\n",
    "            for i, s in enumerate(actions):\n",
    "                #we're going to loop over the actions twice because we're going from one state to another\n",
    "                rewards = np.zeros(len(actions))\n",
    "                for s_prime in range(len(rewards)):\n",
    "                    #transitions with 0 probabiliy we can ignore\n",
    "                    if transition[s].ix[actions[s_prime]] == 0:\n",
    "                        continue\n",
    "                    nrow, ncol = index_grid(r,c,s)\n",
    "                    #attempts to go to the empty square result on the agent staying put\n",
    "                    if np.isnan(grid[nrow, ncol]):\n",
    "                        rewards[s_prime] = grid[r, c] + gamma*vvalues[r, c]\n",
    "                    else:\n",
    "                        rewards[s_prime] = grid[r, c] + gamma*vvalues[nrow, ncol]\n",
    "                expected_value = np.dot(rewards, np.squeeze(transition[s]))\n",
    "                qvalues[r,c,i] = expected_value\n",
    "    return qvalues"
   ]
  },
  {
   "cell_type": "markdown",
   "metadata": {
    "slideshow": {
     "slide_type": "slide"
    }
   },
   "source": [
    "## Now let's update the Q-values based on what we see on the grid"
   ]
  },
  {
   "cell_type": "code",
   "execution_count": 33,
   "metadata": {
    "scrolled": true,
    "slideshow": {
     "slide_type": "subslide"
    }
   },
   "outputs": [
    {
     "name": "stderr",
     "output_type": "stream",
     "text": [
      "/Users/4d/anaconda/lib/python3.5/site-packages/ipykernel/__main__.py:64: DeprecationWarning: \n",
      ".ix is deprecated. Please use\n",
      ".loc for label based indexing or\n",
      ".iloc for positional indexing\n",
      "\n",
      "See the documentation here:\n",
      "http://pandas.pydata.org/pandas-docs/stable/indexing.html#deprecate_ix\n"
     ]
    },
    {
     "data": {
      "text/plain": [
       "array([[[-0.0175, -0.0175, -0.0175, -0.0175],\n",
       "        [-0.0175, -0.0175, -0.0175, -0.0175],\n",
       "        [-0.0175, -0.0175, -0.0175,  0.74  ],\n",
       "        [ 1.    ,  1.    ,  1.    ,  1.    ]],\n",
       "\n",
       "       [[-0.0175, -0.0175, -0.0175, -0.0175],\n",
       "        [    nan,     nan,     nan,     nan],\n",
       "        [-0.0175, -0.0175, -0.0175, -0.76  ],\n",
       "        [-1.    , -1.    , -1.    , -1.    ]],\n",
       "\n",
       "       [[-0.0175, -0.0175, -0.0175, -0.0175],\n",
       "        [-0.0175, -0.0175, -0.0175, -0.0175],\n",
       "        [-0.0175, -0.0175, -0.0175, -0.0175],\n",
       "        [-0.76  , -0.0175, -0.0175, -0.0175]]])"
      ]
     },
     "execution_count": 33,
     "metadata": {},
     "output_type": "execute_result"
    }
   ],
   "source": [
    "qvalues_1 = update_q(q_values, v_values)\n",
    "qvalues_1"
   ]
  },
  {
   "cell_type": "markdown",
   "metadata": {
    "slideshow": {
     "slide_type": "slide"
    }
   },
   "source": [
    "## Once we know these Q-values we can update the V-values\n",
    "\n",
    "Recall that \n",
    "\n",
    "$$V^*(s) = \\max(Q^*(s,a))$$\n",
    "\n",
    "and the optimal policy, $\\pi^*(s)$, is\n",
    "\n",
    "$$\\pi^*(s) = \\text{argmax}(Q^*(s,a))$$"
   ]
  },
  {
   "cell_type": "markdown",
   "metadata": {
    "slideshow": {
     "slide_type": "slide"
    }
   },
   "source": [
    "Which is the same as:\n",
    "\n",
    "```python\n",
    "v_values_new = np.max(qvalues, axis=-1)\n",
    "policy_new = np.argmax(qvalues, axis=-1)\n",
    "```"
   ]
  },
  {
   "cell_type": "code",
   "execution_count": 29,
   "metadata": {
    "collapsed": true,
    "slideshow": {
     "slide_type": "skip"
    }
   },
   "outputs": [],
   "source": [
    "def update_v(qvalues, policy):\n",
    "    '''\n",
    "    updates the policy based on the qvalues\n",
    "    recall that v*(s) = max(q*(s,a))\n",
    "    also pi*(s) = argmax(q*(s,a))\n",
    "    \n",
    "    Args:\n",
    "        qvalues: array of values for each state, action pair\n",
    "        policy: array of actions for each state\n",
    "    \n",
    "    Returns:\n",
    "        v_values_new: new array vvalues for each state\n",
    "        policy: updated policy array\n",
    "    '''\n",
    "    v_values_new = np.max(qvalues, axis = 2)\n",
    "    policy_indices = np.argmax(qvalues, axis = 2)\n",
    "    for r in policy.index:\n",
    "        for c in policy.columns:\n",
    "            #we can ignore the blank states and terminal states\n",
    "            if policy.loc[r,c] == 'exit' or policy.loc[r,c] == '':\n",
    "                continue\n",
    "            policy.loc[r,c] = actions[policy_indices[r, c]]\n",
    "    return v_values_new, policy"
   ]
  },
  {
   "cell_type": "markdown",
   "metadata": {
    "slideshow": {
     "slide_type": "slide"
    }
   },
   "source": [
    "Now let's update the v values and policy "
   ]
  },
  {
   "cell_type": "code",
   "execution_count": 35,
   "metadata": {
    "slideshow": {
     "slide_type": "subslide"
    }
   },
   "outputs": [
    {
     "name": "stderr",
     "output_type": "stream",
     "text": [
      "/Users/4d/anaconda/lib/python3.5/site-packages/ipykernel/__main__.py:20: DeprecationWarning: \n",
      ".ix is deprecated. Please use\n",
      ".loc for label based indexing or\n",
      ".iloc for positional indexing\n",
      "\n",
      "See the documentation here:\n",
      "http://pandas.pydata.org/pandas-docs/stable/indexing.html#deprecate_ix\n"
     ]
    },
    {
     "data": {
      "text/plain": [
       "<matplotlib.text.Text at 0x10e2b1e10>"
      ]
     },
     "execution_count": 35,
     "metadata": {},
     "output_type": "execute_result"
    },
    {
     "data": {
      "image/png": "[encoded data removed]",
      "text/plain": [
       "<matplotlib.figure.Figure at 0x10e2a3a90>"
      ]
     },
     "metadata": {},
     "output_type": "display_data"
    }
   ],
   "source": [
    "vvalues_1, policy_1 = update_v(qvalues_1, policy)\n",
    "sns.heatmap(vvalues_1, cmap='RdBu', annot=True, cbar = False, annot_kws={\"size\": 14})\n",
    "plt.title('V(s) After 1 Iteration')"
   ]
  },
  {
   "cell_type": "code",
   "execution_count": 36,
   "metadata": {
    "slideshow": {
     "slide_type": "slide"
    }
   },
   "outputs": [
    {
     "data": {
      "text/html": [
       "<div>\n",
       "<style>\n",
       "    .dataframe thead tr:only-child th {\n",
       "        text-align: right;\n",
       "    }\n",
       "\n",
       "    .dataframe thead th {\n",
       "        text-align: left;\n",
       "    }\n",
       "\n",
       "    .dataframe tbody tr th {\n",
       "        vertical-align: top;\n",
       "    }\n",
       "</style>\n",
       "<table border=\"1\" class=\"dataframe\">\n",
       "  <thead>\n",
       "    <tr style=\"text-align: right;\">\n",
       "      <th></th>\n",
       "      <th>0</th>\n",
       "      <th>1</th>\n",
       "      <th>2</th>\n",
       "      <th>3</th>\n",
       "    </tr>\n",
       "  </thead>\n",
       "  <tbody>\n",
       "    <tr>\n",
       "      <th>0</th>\n",
       "      <td>up</td>\n",
       "      <td>up</td>\n",
       "      <td>right</td>\n",
       "      <td>exit</td>\n",
       "    </tr>\n",
       "    <tr>\n",
       "      <th>1</th>\n",
       "      <td>up</td>\n",
       "      <td></td>\n",
       "      <td>up</td>\n",
       "      <td>exit</td>\n",
       "    </tr>\n",
       "    <tr>\n",
       "      <th>2</th>\n",
       "      <td>up</td>\n",
       "      <td>up</td>\n",
       "      <td>up</td>\n",
       "      <td>down</td>\n",
       "    </tr>\n",
       "  </tbody>\n",
       "</table>\n",
       "</div>"
      ],
      "text/plain": [
       "    0   1      2     3\n",
       "0  up  up  right  exit\n",
       "1  up         up  exit\n",
       "2  up  up     up  down"
      ]
     },
     "execution_count": 36,
     "metadata": {},
     "output_type": "execute_result"
    }
   ],
   "source": [
    "policy_1"
   ]
  },
  {
   "cell_type": "markdown",
   "metadata": {
    "slideshow": {
     "slide_type": "slide"
    }
   },
   "source": [
    "# Now let's run this one more time to see how these values change again"
   ]
  },
  {
   "cell_type": "code",
   "execution_count": 37,
   "metadata": {
    "slideshow": {
     "slide_type": "subslide"
    }
   },
   "outputs": [
    {
     "data": {
      "text/plain": [
       "array([[[-0.023125, -0.023125, -0.023125, -0.023125],\n",
       "        [-0.023125, -0.023125, -0.023125,  0.545   ],\n",
       "        [ 0.545   , -0.023125, -0.023125,  0.74    ],\n",
       "        [ 1.      ,  1.      ,  1.      ,  1.      ]],\n",
       "\n",
       "       [[-0.023125, -0.023125, -0.023125, -0.023125],\n",
       "        [      nan,       nan,       nan,       nan],\n",
       "        [ 0.545   , -0.023125, -0.023125, -0.76    ],\n",
       "        [-1.      , -1.      , -1.      , -1.      ]],\n",
       "\n",
       "       [[-0.023125, -0.023125, -0.023125, -0.023125],\n",
       "        [-0.023125, -0.023125, -0.023125, -0.023125],\n",
       "        [-0.023125, -0.023125, -0.023125, -0.023125],\n",
       "        [-0.76    , -0.023125, -0.023125, -0.023125]]])"
      ]
     },
     "execution_count": 37,
     "metadata": {},
     "output_type": "execute_result"
    }
   ],
   "source": [
    "qvalues_2 = update_q(qvalues_1, vvalues_1)\n",
    "qvalues_2"
   ]
  },
  {
   "cell_type": "code",
   "execution_count": 38,
   "metadata": {
    "slideshow": {
     "slide_type": "slide"
    }
   },
   "outputs": [
    {
     "data": {
      "text/plain": [
       "<matplotlib.text.Text at 0x10e40c128>"
      ]
     },
     "execution_count": 38,
     "metadata": {},
     "output_type": "execute_result"
    },
    {
     "data": {
      "image/png": "[encoded data removed]",
      "text/plain": [
       "<matplotlib.figure.Figure at 0x10e2ae6d8>"
      ]
     },
     "metadata": {},
     "output_type": "display_data"
    }
   ],
   "source": [
    "vvalues_2, policy_2 = update_v(qvalues_2, policy_1)\n",
    "sns.heatmap(vvalues_2, cmap='RdBu', annot=True, cbar = False, annot_kws={\"size\": 14})\n",
    "plt.title('V(s) after 2 Iterations')"
   ]
  },
  {
   "cell_type": "code",
   "execution_count": 39,
   "metadata": {
    "slideshow": {
     "slide_type": "slide"
    }
   },
   "outputs": [
    {
     "data": {
      "text/html": [
       "<div>\n",
       "<style>\n",
       "    .dataframe thead tr:only-child th {\n",
       "        text-align: right;\n",
       "    }\n",
       "\n",
       "    .dataframe thead th {\n",
       "        text-align: left;\n",
       "    }\n",
       "\n",
       "    .dataframe tbody tr th {\n",
       "        vertical-align: top;\n",
       "    }\n",
       "</style>\n",
       "<table border=\"1\" class=\"dataframe\">\n",
       "  <thead>\n",
       "    <tr style=\"text-align: right;\">\n",
       "      <th></th>\n",
       "      <th>0</th>\n",
       "      <th>1</th>\n",
       "      <th>2</th>\n",
       "      <th>3</th>\n",
       "    </tr>\n",
       "  </thead>\n",
       "  <tbody>\n",
       "    <tr>\n",
       "      <th>0</th>\n",
       "      <td>up</td>\n",
       "      <td>right</td>\n",
       "      <td>right</td>\n",
       "      <td>exit</td>\n",
       "    </tr>\n",
       "    <tr>\n",
       "      <th>1</th>\n",
       "      <td>up</td>\n",
       "      <td></td>\n",
       "      <td>up</td>\n",
       "      <td>exit</td>\n",
       "    </tr>\n",
       "    <tr>\n",
       "      <th>2</th>\n",
       "      <td>up</td>\n",
       "      <td>up</td>\n",
       "      <td>up</td>\n",
       "      <td>down</td>\n",
       "    </tr>\n",
       "  </tbody>\n",
       "</table>\n",
       "</div>"
      ],
      "text/plain": [
       "    0      1      2     3\n",
       "0  up  right  right  exit\n",
       "1  up            up  exit\n",
       "2  up     up     up  down"
      ]
     },
     "execution_count": 39,
     "metadata": {},
     "output_type": "execute_result"
    }
   ],
   "source": [
    "policy_2"
   ]
  },
  {
   "cell_type": "markdown",
   "metadata": {
    "slideshow": {
     "slide_type": "slide"
    }
   },
   "source": [
    "# We can now combine these two steps and run until convergence\n",
    "\n",
    "```python\n",
    "while np.abs(v_new - v) > epsilon:\n",
    "    v = v_new\n",
    "    q = update_q(q, v)\n",
    "    v_new, policy = update_v(q, policy)\n",
    "```"
   ]
  },
  {
   "cell_type": "code",
   "execution_count": 30,
   "metadata": {
    "collapsed": true,
    "slideshow": {
     "slide_type": "slide"
    }
   },
   "outputs": [],
   "source": [
    "def value_iteration(qvalues, vvalues, policy, epsilon):\n",
    "    qvalues = update_q(qvalues, vvalues)\n",
    "    v_new, policy_new = update_v(qvalues, policy)  \n",
    "    while (np.nanmax(abs(v_new - vvalues)) > epsilon):\n",
    "        print('current epsilon: %0.5f' % np.nanmax(abs(v_new - vvalues)))\n",
    "        vvalues = v_new\n",
    "        qvalues = update_q(qvalues, vvalues)\n",
    "        v_new, policy_new = update_v(qvalues, policy)\n",
    "        \n",
    "    return v_new, policy_new, qvalues"
   ]
  },
  {
   "cell_type": "markdown",
   "metadata": {
    "slideshow": {
     "slide_type": "slide"
    }
   },
   "source": [
    "In this case we set $\\epsilon = 0.001$"
   ]
  },
  {
   "cell_type": "code",
   "execution_count": 41,
   "metadata": {
    "slideshow": {
     "slide_type": "subslide"
    }
   },
   "outputs": [
    {
     "name": "stdout",
     "output_type": "stream",
     "text": [
      "[[ 0.421875    0.          0.          0.        ]\n",
      " [ 0.00421875         nan  0.          0.        ]\n",
      " [ 0.00421875  0.00421875  0.421875    0.00421875]]\n",
      "current epsilon: 0.42187\n",
      "current epsilon: 0.31641\n",
      "current epsilon: 0.23730\n"
     ]
    }
   ],
   "source": [
    "v_final, policy_final, qvalues = value_iteration(qvalues_2, vvalues_2, policy_2, 0.001)"
   ]
  },
  {
   "cell_type": "code",
   "execution_count": 42,
   "metadata": {
    "slideshow": {
     "slide_type": "slide"
    }
   },
   "outputs": [
    {
     "data": {
      "text/plain": [
       "<matplotlib.text.Text at 0x10e4e08d0>"
      ]
     },
     "execution_count": 42,
     "metadata": {},
     "output_type": "execute_result"
    },
    {
     "data": {
      "image/png": "[encoded data removed]",
      "text/plain": [
       "<matplotlib.figure.Figure at 0x10e460cf8>"
      ]
     },
     "metadata": {},
     "output_type": "display_data"
    }
   ],
   "source": [
    "sns.heatmap(v_final, cmap='RdBu', annot=True, cbar = False, annot_kws={\"size\": 14})\n",
    "plt.title('Converged Values of V(s)')"
   ]
  },
  {
   "cell_type": "markdown",
   "metadata": {
    "slideshow": {
     "slide_type": "slide"
    }
   },
   "source": [
    "## Why are these our V values?\n",
    "\n",
    "1. Discount factor for future reward ($\\gamma$)\n",
    "2. Small negative value of most squares (-0.01)\n",
    "3. Large negative value of one square (-1)\n",
    "4. Veering off course 10% of time into undesirable squares"
   ]
  },
  {
   "cell_type": "code",
   "execution_count": 43,
   "metadata": {
    "slideshow": {
     "slide_type": "slide"
    }
   },
   "outputs": [
    {
     "data": {
      "text/html": [
       "<div>\n",
       "<style>\n",
       "    .dataframe thead tr:only-child th {\n",
       "        text-align: right;\n",
       "    }\n",
       "\n",
       "    .dataframe thead th {\n",
       "        text-align: left;\n",
       "    }\n",
       "\n",
       "    .dataframe tbody tr th {\n",
       "        vertical-align: top;\n",
       "    }\n",
       "</style>\n",
       "<table border=\"1\" class=\"dataframe\">\n",
       "  <thead>\n",
       "    <tr style=\"text-align: right;\">\n",
       "      <th></th>\n",
       "      <th>0</th>\n",
       "      <th>1</th>\n",
       "      <th>2</th>\n",
       "      <th>3</th>\n",
       "    </tr>\n",
       "  </thead>\n",
       "  <tbody>\n",
       "    <tr>\n",
       "      <th>0</th>\n",
       "      <td>right</td>\n",
       "      <td>right</td>\n",
       "      <td>right</td>\n",
       "      <td>exit</td>\n",
       "    </tr>\n",
       "    <tr>\n",
       "      <th>1</th>\n",
       "      <td>up</td>\n",
       "      <td></td>\n",
       "      <td>up</td>\n",
       "      <td>exit</td>\n",
       "    </tr>\n",
       "    <tr>\n",
       "      <th>2</th>\n",
       "      <td>up</td>\n",
       "      <td>right</td>\n",
       "      <td>up</td>\n",
       "      <td>left</td>\n",
       "    </tr>\n",
       "  </tbody>\n",
       "</table>\n",
       "</div>"
      ],
      "text/plain": [
       "       0      1      2     3\n",
       "0  right  right  right  exit\n",
       "1     up            up  exit\n",
       "2     up  right     up  left"
      ]
     },
     "execution_count": 43,
     "metadata": {},
     "output_type": "execute_result"
    }
   ],
   "source": [
    "policy_final"
   ]
  },
  {
   "cell_type": "code",
   "execution_count": 44,
   "metadata": {
    "slideshow": {
     "slide_type": "subslide"
    }
   },
   "outputs": [
    {
     "data": {
      "text/plain": [
       "array([[3, 3, 3, 0],\n",
       "       [0, 0, 0, 0],\n",
       "       [0, 3, 0, 2]])"
      ]
     },
     "execution_count": 44,
     "metadata": {},
     "output_type": "execute_result"
    }
   ],
   "source": [
    "qvalues.argmax(-1)"
   ]
  },
  {
   "cell_type": "markdown",
   "metadata": {
    "slideshow": {
     "slide_type": "slide"
    }
   },
   "source": [
    "## But what if you can't do dynamic programming?\n",
    "\n",
    "Dynamic Programming requires the transition probabilities between states to be known. How can we estimate $Q(s,a)$ without a model of these transitions?"
   ]
  },
  {
   "cell_type": "markdown",
   "metadata": {
    "slideshow": {
     "slide_type": "slide"
    }
   },
   "source": [
    "# Recall \n",
    "\n",
    "$$Q(s,a)=\\sum_{s'}P(s'|s,a)\\left(R(s,a,s') + \\gamma V^*(s')\\right)$$\n",
    "\n",
    "\n",
    "Which is the average reward of taking action $a$ when you're in state $s$ and following the optimal policy from there. \n",
    "\n",
    "Why can't we make an update equation for our estimates of $Q(s,a)$ based on our experiences with the environment?\n",
    "\n"
   ]
  },
  {
   "cell_type": "markdown",
   "metadata": {
    "slideshow": {
     "slide_type": "slide"
    }
   },
   "source": [
    "# With update $\\alpha$, we get an exponentially weighted average of $Q(s,a)$\n",
    "\n",
    "# $$Q(s,a) \\leftarrow Q(s,a) + \\alpha\\big[r+\\gamma Q(s',a') - Q(s,a)\\big]$$"
   ]
  },
  {
   "cell_type": "markdown",
   "metadata": {
    "slideshow": {
     "slide_type": "slide"
    }
   },
   "source": [
    "## Let's redo this with SARSA"
   ]
  },
  {
   "cell_type": "code",
   "execution_count": 31,
   "metadata": {
    "collapsed": true,
    "slideshow": {
     "slide_type": "subslide"
    }
   },
   "outputs": [],
   "source": [
    "gamma = .99\n",
    "start = [2,0]\n",
    "epsilon = .1\n",
    "nactions = len(actions)\n",
    "q_values = np.zeros(np.shape(grid) + (nactions,))\n",
    "q_value_observations = np.zeros(np.shape(grid) + (nactions,))\n",
    "epsilon = 0.1"
   ]
  },
  {
   "cell_type": "markdown",
   "metadata": {
    "slideshow": {
     "slide_type": "slide"
    }
   },
   "source": [
    "First, we'll write a new function to update our policy"
   ]
  },
  {
   "cell_type": "code",
   "execution_count": 33,
   "metadata": {
    "collapsed": true,
    "slideshow": {
     "slide_type": "subslide"
    }
   },
   "outputs": [],
   "source": [
    "def update_policy_frame(policy_frame, policy):\n",
    "    for r in range(row):\n",
    "        for c in range(col):\n",
    "            if np.isfinite(policy[r,c]):\n",
    "                policy_frame[c].ix[r] = actions[int(policy[r,c])]\n",
    "    return policy_frame\n",
    "\n",
    "def update_policy(qvalues, pol):\n",
    "    '''\n",
    "    updates the policy based on the qvalues\n",
    "    recall that v*(s) = max(q*(s,a))\n",
    "    also pi*(s) = argmax(q*(s,a))\n",
    "    '''\n",
    "    pol_indices = np.nanargmax(qvalues, axis = 2)\n",
    "    pol_indices = pol_indices.astype(float)\n",
    "    pol_indices[1,1] = np.nan\n",
    "    pol_indices[0,3] = np.nan\n",
    "    pol_indices[1,3] = np.nan\n",
    "    return pol_indices"
   ]
  },
  {
   "cell_type": "markdown",
   "metadata": {
    "slideshow": {
     "slide_type": "slide"
    }
   },
   "source": [
    "Next we'll write a function to perform $\\epsilon$-greedy exploration"
   ]
  },
  {
   "cell_type": "code",
   "execution_count": null,
   "metadata": {
    "collapsed": true,
    "slideshow": {
     "slide_type": "subslide"
    }
   },
   "outputs": [],
   "source": [
    "def epsilon_greedy(r, c, grid, pol, e=epsilon):\n",
    "    if abs(grid[r,c]) == 1:\n",
    "        return np.nan\n",
    "    elif grid[r, c] == -0.01:\n",
    "        flip = bool(np.random.binomial(1, e, size=None))\n",
    "        if flip:\n",
    "            new_choice = np.random.choice(list(range(nactions))) \n",
    "            return new_choice      \n",
    "        else:\n",
    "            return pol[r,c]\n",
    "    else:\n",
    "        return np.nan"
   ]
  },
  {
   "cell_type": "markdown",
   "metadata": {
    "slideshow": {
     "slide_type": "slide"
    }
   },
   "source": [
    "This toy function is our transition function"
   ]
  },
  {
   "cell_type": "code",
   "execution_count": null,
   "metadata": {
    "collapsed": true,
    "slideshow": {
     "slide_type": "subslide"
    }
   },
   "outputs": [],
   "source": [
    "def get_next_state(action):\n",
    "    return np.random.choice(list(range(nactions)), p=np.squeeze(transition[actions[action]])) "
   ]
  },
  {
   "cell_type": "markdown",
   "metadata": {
    "slideshow": {
     "slide_type": "slide"
    }
   },
   "source": [
    "Now we write functions to explore the space until we get to the goal or exit, updating our policy as we go along.\n",
    "\n",
    "```python\n",
    "state = start_state\n",
    "while state not in exit_states:\n",
    "    #this is our epsilon greedy fn\n",
    "    flip = bool(np.random.binomial(1, e, size=None))\n",
    "    if flip:\n",
    "        action = np.random.choice(actions)\n",
    "    else:\n",
    "        action = policy[state]\n",
    "    s_prime = get_next_state(state, action)\n",
    "    #this is also our epsilon greedy fn\n",
    "    flip = bool(np.random.binomial(1, e, size=None))\n",
    "    if flip:\n",
    "        action_prime = np.random.choice(actions)\n",
    "    else:\n",
    "        action_prime = policy[state_prime]\n",
    "    # with our state, action, action_prime, and state_prime\n",
    "    # we can update our q values\n",
    "    # q_new = q_old + alpha * ( reward + discount_factor * q_next_step - q_old]\n",
    "    q[state, action] += alpha * (reward[state, action, state_prime]\n",
    "    + gamma * q[state_prime, action_prime] - q[state, action])\n",
    "```"
   ]
  },
  {
   "cell_type": "code",
   "execution_count": null,
   "metadata": {
    "collapsed": true,
    "slideshow": {
     "slide_type": "slide"
    }
   },
   "outputs": [],
   "source": [
    "def sarsa_equation(qv, old_tuple, a, r, g, new_tuple):\n",
    "    q_k = qv[old_tuple]\n",
    "    update = q_k + a * (r + g * qv[new_tuple] - q_k)\n",
    "    return update"
   ]
  },
  {
   "cell_type": "code",
   "execution_count": null,
   "metadata": {
    "collapsed": true,
    "slideshow": {
     "slide_type": "skip"
    }
   },
   "outputs": [],
   "source": [
    "def sarsa_update(r, c, action, alpha, grid, pol):\n",
    "    action = int(action)\n",
    "    viz = np.zeros((row, col))\n",
    "    viz[r, c] += 1  \n",
    "    old = (r, c, action)\n",
    "    noisy_action = get_next_state(action)\n",
    "    r_prime, c_prime = index_grid(r, c, actions[noisy_action])\n",
    "    #pdb.set_trace()\n",
    "    if (r_prime == 1) and (c_prime == 1):\n",
    "        r_prime = r\n",
    "        c_prime = c\n",
    "    viz[r_prime, c_prime] += 2\n",
    "    #print(viz)\n",
    "    reward = grid[r, c]\n",
    "    action_prime = epsilon_greedy(r_prime, c_prime, grid, pol)\n",
    "    if np.isfinite(action_prime):\n",
    "        action_prime = int(action_prime)\n",
    "        #print((\"next action is action %d: %s\" % (action_prime, actions[action_prime])))\n",
    "        #print(('current q_value is %.2f' % q_k))\n",
    "        #print(('next q_value is  %.2f' % q_values[r_prime, c_prime, action_prime]))\n",
    "        #'q(s,a) += alpha*(r(s,a,s_prime) + gamma*q(s_prime, a_prime) - q(s,a))'\n",
    "        #if (r_prime == r and c_prime == c) and q_k != 0:\n",
    "            #pdb.set_trace()\n",
    "        #q_update = q_k + alpha * (reward + gamma * q_values[r_prime, c_prime, action_prime] - q_k)\n",
    "        new = (r_prime, c_prime, action_prime)\n",
    "        \n",
    "    else:\n",
    "        #pdb.set_trace()\n",
    "        #q_update = q_k + alpha * (reward + gamma * q_values[r_prime, c_prime, 0] - q_k)\n",
    "        new = (r_prime, c_prime,0)\n",
    "        \n",
    "    q_update = sarsa_equation(q_values, old, alpha, reward, gamma, new)\n",
    "        \n",
    "    if q_update > 1: #or q_update != -0.01:\n",
    "        pdb.set_trace()\n",
    "    return q_update, r_prime, c_prime, action_prime"
   ]
  },
  {
   "cell_type": "code",
   "execution_count": 34,
   "metadata": {
    "collapsed": true,
    "slideshow": {
     "slide_type": "skip"
    }
   },
   "outputs": [],
   "source": [
    "def experiment(alpha, grid, pol, epsilon):\n",
    "    n_moves = 0\n",
    "    total_reward = 0 \n",
    "    r, c = int(start[0]), int(start[1])\n",
    "    action = int(epsilon_greedy(r,c, grid, pol, epsilon))\n",
    "    while np.isfinite(action):\n",
    "        #print((\"at row %d column %d taking action %d: %s\" % (r, c, action, actions[action])))\n",
    "        #print(('action is %d' % action))\n",
    "        #print('policy is')\n",
    "        #print(pol)\n",
    "        #print('running sarsa update')\n",
    "        q_value_observations[r,c,action] += 1\n",
    "        q_update, r_prime, c_prime, action_prime = sarsa_update(r, c, action, alpha, grid, pol)\n",
    "        #print('q_update is %0.2f' % q_update)\n",
    "        q_values[r, c, action] = q_update\n",
    "        new_policy = update_policy(q_values, pol)\n",
    "        #print('policy is') \n",
    "        #print(pol)\n",
    "        #print() \n",
    "        #print('new policy is')\n",
    "        #print(new_policy) \n",
    "        pol = new_policy\n",
    "        #print('policy is now')\n",
    "        #print(pol)\n",
    "        r = r_prime\n",
    "        c = c_prime\n",
    "        action = action_prime\n",
    "        n_moves += 1\n",
    "        total_reward += grid[r, c]\n",
    "        #print() \n",
    "        #print(q_values)\n",
    "        #pdb.set_trace()\n",
    "    if abs(grid[r, c]) == 1:\n",
    "        #print('terminating at goal')\n",
    "        q_values[r, c, :] = grid[r,c]\n",
    "    else:\n",
    "        print(r) \n",
    "        print(c)\n",
    "        #pdb.set_trace()\n",
    "    \n",
    "    return pol, n_moves, total_reward, grid[r,c] == 1"
   ]
  },
  {
   "cell_type": "markdown",
   "metadata": {
    "slideshow": {
     "slide_type": "slide"
    }
   },
   "source": [
    "## Now we'll start the agent 200 times at the the start state and update the policy using SARSA"
   ]
  },
  {
   "cell_type": "code",
   "execution_count": 60,
   "metadata": {
    "slideshow": {
     "slide_type": "subslide"
    }
   },
   "outputs": [
    {
     "name": "stdout",
     "output_type": "stream",
     "text": [
      "experiment 0\n"
     ]
    },
    {
     "name": "stderr",
     "output_type": "stream",
     "text": [
      "/Users/4d/anaconda/lib/python3.5/site-packages/ipykernel/__main__.py:5: DeprecationWarning: \n",
      ".ix is deprecated. Please use\n",
      ".loc for label based indexing or\n",
      ".iloc for positional indexing\n",
      "\n",
      "See the documentation here:\n",
      "http://pandas.pydata.org/pandas-docs/stable/indexing.html#deprecate_ix\n",
      "/Users/4d/anaconda/lib/python3.5/site-packages/ipykernel/__main__.py:15: DeprecationWarning: \n",
      ".ix is deprecated. Please use\n",
      ".loc for label based indexing or\n",
      ".iloc for positional indexing\n",
      "\n",
      "See the documentation here:\n",
      "http://pandas.pydata.org/pandas-docs/stable/indexing.html#deprecate_ix\n"
     ]
    },
    {
     "name": "stdout",
     "output_type": "stream",
     "text": [
      "experiment 25\n",
      "experiment 50\n",
      "experiment 75\n",
      "experiment 100\n",
      "experiment 125\n",
      "experiment 150\n",
      "experiment 175\n"
     ]
    }
   ],
   "source": [
    "sarsa_pol = q_values.argmax(-1).astype(float)\n",
    "sarsa_frame = pd.DataFrame([['unknown', 'unknown', 'unknown', 'exit'],\n",
    "                       ['unknown', '', 'unknown', 'exit'],\n",
    "                       ['unknown', 'unknown', 'unknown', 'unknown']])\n",
    "n_experiments = 200\n",
    "sarsa_results = pd.DataFrame(index=(range(n_experiments)), columns=['moves', 'total_reward', 'hit_goal', 'epsilon'])\n",
    "\n",
    "for i in range(n_experiments):\n",
    "    if i % 25 == 0:\n",
    "        print('experiment %d' % i)\n",
    "    alpha = 0.5\n",
    "    sarsa_pol, total_moves, total_reward, hit_goal = experiment(alpha, grid, sarsa_pol, epsilon)\n",
    "    sarsa_frame = update_policy_frame(sarsa_frame, sarsa_pol)\n",
    "    sarsa_results.ix[i] = pd.Series(data=[total_moves, total_reward, hit_goal, epsilon],\n",
    "                                    index=list(sarsa_results.columns))\n",
    "    epsilon = 1./((i/50) + 10)\n",
    "    #print policy_frame\n",
    "    #print"
   ]
  },
  {
   "cell_type": "markdown",
   "metadata": {
    "slideshow": {
     "slide_type": "slide"
    }
   },
   "source": [
    "# Let's look at the policy we learned"
   ]
  },
  {
   "cell_type": "code",
   "execution_count": 61,
   "metadata": {
    "slideshow": {
     "slide_type": "subslide"
    }
   },
   "outputs": [
    {
     "data": {
      "text/html": [
       "<div>\n",
       "<style>\n",
       "    .dataframe thead tr:only-child th {\n",
       "        text-align: right;\n",
       "    }\n",
       "\n",
       "    .dataframe thead th {\n",
       "        text-align: left;\n",
       "    }\n",
       "\n",
       "    .dataframe tbody tr th {\n",
       "        vertical-align: top;\n",
       "    }\n",
       "</style>\n",
       "<table border=\"1\" class=\"dataframe\">\n",
       "  <thead>\n",
       "    <tr style=\"text-align: right;\">\n",
       "      <th></th>\n",
       "      <th>0</th>\n",
       "      <th>1</th>\n",
       "      <th>2</th>\n",
       "      <th>3</th>\n",
       "    </tr>\n",
       "  </thead>\n",
       "  <tbody>\n",
       "    <tr>\n",
       "      <th>0</th>\n",
       "      <td>right</td>\n",
       "      <td>right</td>\n",
       "      <td>right</td>\n",
       "      <td>exit</td>\n",
       "    </tr>\n",
       "    <tr>\n",
       "      <th>1</th>\n",
       "      <td>up</td>\n",
       "      <td></td>\n",
       "      <td>down</td>\n",
       "      <td>exit</td>\n",
       "    </tr>\n",
       "    <tr>\n",
       "      <th>2</th>\n",
       "      <td>up</td>\n",
       "      <td>left</td>\n",
       "      <td>left</td>\n",
       "      <td>left</td>\n",
       "    </tr>\n",
       "  </tbody>\n",
       "</table>\n",
       "</div>"
      ],
      "text/plain": [
       "       0      1      2     3\n",
       "0  right  right  right  exit\n",
       "1     up          down  exit\n",
       "2     up   left   left  left"
      ]
     },
     "execution_count": 61,
     "metadata": {},
     "output_type": "execute_result"
    }
   ],
   "source": [
    "sarsa_frame"
   ]
  },
  {
   "cell_type": "markdown",
   "metadata": {
    "slideshow": {
     "slide_type": "slide"
    }
   },
   "source": [
    "## Now we'll examine the q values"
   ]
  },
  {
   "cell_type": "code",
   "execution_count": 62,
   "metadata": {
    "slideshow": {
     "slide_type": "subslide"
    }
   },
   "outputs": [
    {
     "data": {
      "text/plain": [
       "array([[[ 0.770752  ,  0.67658165,  0.61733252,  0.89760334],\n",
       "        [ 0.87244749,  0.79757113,  0.59348924,  0.95884092],\n",
       "        [ 0.48703788,  0.35310536,  0.32824982,  0.97875858],\n",
       "        [ 1.        ,  1.        ,  1.        ,  1.        ]],\n",
       "\n",
       "       [[ 0.79636912,  0.61431109,  0.54367061,  0.59881401],\n",
       "        [ 0.        ,  0.        ,  0.        ,  0.        ],\n",
       "        [-0.30217166,  0.54511236, -0.23959573, -0.90390381],\n",
       "        [-0.99975586, -0.99975586, -0.99975586, -0.99975586]],\n",
       "\n",
       "       [[ 0.78364617,  0.54271596,  0.54468348,  0.54180752],\n",
       "        [-0.01295764,  0.13062378,  0.61170096,  0.25342798],\n",
       "        [-0.01046362, -0.01466887,  0.65092461, -0.0101494 ],\n",
       "        [-0.84082031, -0.11119158, -0.01490701, -0.35208905]]])"
      ]
     },
     "execution_count": 62,
     "metadata": {},
     "output_type": "execute_result"
    }
   ],
   "source": [
    "q_values"
   ]
  },
  {
   "cell_type": "markdown",
   "metadata": {
    "slideshow": {
     "slide_type": "slide"
    }
   },
   "source": [
    "Because we kept track of the number of times the agent performed each action on each state, we can visualize these counts "
   ]
  },
  {
   "cell_type": "code",
   "execution_count": 63,
   "metadata": {
    "slideshow": {
     "slide_type": "subslide"
    }
   },
   "outputs": [
    {
     "data": {
      "text/plain": [
       "array([[[  59.,   24.,   49.,  251.],\n",
       "        [  77.,   67.,   51.,  228.],\n",
       "        [ 123.,    7.,   31.,  202.],\n",
       "        [   0.,    0.,    0.,    0.]],\n",
       "\n",
       "       [[ 228.,   53.,   43.,   94.],\n",
       "        [   0.,    0.,    0.,    0.],\n",
       "        [  37.,   55.,   40.,    4.],\n",
       "        [   0.,    0.,    0.,    0.]],\n",
       "\n",
       "       [[ 252.,  100.,   69.,  120.],\n",
       "        [  45.,   45.,  111.,  100.],\n",
       "        [  73.,   45.,   82.,   28.],\n",
       "        [   4.,   50.,   28.,    4.]]])"
      ]
     },
     "execution_count": 63,
     "metadata": {},
     "output_type": "execute_result"
    }
   ],
   "source": [
    "q_value_observations"
   ]
  },
  {
   "cell_type": "code",
   "execution_count": 64,
   "metadata": {
    "slideshow": {
     "slide_type": "slide"
    }
   },
   "outputs": [
    {
     "data": {
      "text/plain": [
       "<matplotlib.text.Text at 0x10eb58b38>"
      ]
     },
     "execution_count": 64,
     "metadata": {},
     "output_type": "execute_result"
    },
    {
     "data": {
      "image/png": "[encoded data removed]",
      "text/plain": [
       "<matplotlib.figure.Figure at 0x10e9c4908>"
      ]
     },
     "metadata": {},
     "output_type": "display_data"
    }
   ],
   "source": [
    "sns.heatmap(q_value_observations.sum(-1), cbar=False, annot=True, fmt='.0f', annot_kws={\"size\": 14})\n",
    "plt.title('Visits to Each State')"
   ]
  },
  {
   "cell_type": "markdown",
   "metadata": {
    "slideshow": {
     "slide_type": "slide"
    }
   },
   "source": [
    "## Let's examine the dataframe of our results"
   ]
  },
  {
   "cell_type": "code",
   "execution_count": 65,
   "metadata": {
    "slideshow": {
     "slide_type": "subslide"
    }
   },
   "outputs": [
    {
     "data": {
      "text/html": [
       "<div>\n",
       "<style>\n",
       "    .dataframe thead tr:only-child th {\n",
       "        text-align: right;\n",
       "    }\n",
       "\n",
       "    .dataframe thead th {\n",
       "        text-align: left;\n",
       "    }\n",
       "\n",
       "    .dataframe tbody tr th {\n",
       "        vertical-align: top;\n",
       "    }\n",
       "</style>\n",
       "<table border=\"1\" class=\"dataframe\">\n",
       "  <thead>\n",
       "    <tr style=\"text-align: right;\">\n",
       "      <th></th>\n",
       "      <th>moves</th>\n",
       "      <th>total_reward</th>\n",
       "      <th>hit_goal</th>\n",
       "      <th>epsilon</th>\n",
       "    </tr>\n",
       "  </thead>\n",
       "  <tbody>\n",
       "    <tr>\n",
       "      <th>195</th>\n",
       "      <td>5</td>\n",
       "      <td>0.96</td>\n",
       "      <td>True</td>\n",
       "      <td>0.0720461</td>\n",
       "    </tr>\n",
       "    <tr>\n",
       "      <th>196</th>\n",
       "      <td>5</td>\n",
       "      <td>0.96</td>\n",
       "      <td>True</td>\n",
       "      <td>0.0719424</td>\n",
       "    </tr>\n",
       "    <tr>\n",
       "      <th>197</th>\n",
       "      <td>10</td>\n",
       "      <td>0.91</td>\n",
       "      <td>True</td>\n",
       "      <td>0.0718391</td>\n",
       "    </tr>\n",
       "    <tr>\n",
       "      <th>198</th>\n",
       "      <td>6</td>\n",
       "      <td>0.95</td>\n",
       "      <td>True</td>\n",
       "      <td>0.071736</td>\n",
       "    </tr>\n",
       "    <tr>\n",
       "      <th>199</th>\n",
       "      <td>5</td>\n",
       "      <td>0.96</td>\n",
       "      <td>True</td>\n",
       "      <td>0.0716332</td>\n",
       "    </tr>\n",
       "  </tbody>\n",
       "</table>\n",
       "</div>"
      ],
      "text/plain": [
       "    moves total_reward hit_goal    epsilon\n",
       "195     5         0.96     True  0.0720461\n",
       "196     5         0.96     True  0.0719424\n",
       "197    10         0.91     True  0.0718391\n",
       "198     6         0.95     True   0.071736\n",
       "199     5         0.96     True  0.0716332"
      ]
     },
     "execution_count": 65,
     "metadata": {},
     "output_type": "execute_result"
    }
   ],
   "source": [
    "sarsa_results.tail()"
   ]
  },
  {
   "cell_type": "code",
   "execution_count": 66,
   "metadata": {
    "slideshow": {
     "slide_type": "slide"
    }
   },
   "outputs": [
    {
     "data": {
      "text/plain": [
       "<matplotlib.text.Text at 0x10ebad780>"
      ]
     },
     "execution_count": 66,
     "metadata": {},
     "output_type": "execute_result"
    },
    {
     "data": {
      "image/png": "[encoded data removed]",
      "text/plain": [
       "<matplotlib.figure.Figure at 0x10e4e9b70>"
      ]
     },
     "metadata": {},
     "output_type": "display_data"
    }
   ],
   "source": [
    "sarsa_results.total_reward.plot()\n",
    "plt.title('Total Reward per Experiment')\n",
    "plt.xlabel('Experiment')\n",
    "plt.ylabel('Total Reward')"
   ]
  },
  {
   "cell_type": "code",
   "execution_count": 67,
   "metadata": {
    "slideshow": {
     "slide_type": "slide"
    }
   },
   "outputs": [
    {
     "data": {
      "text/plain": [
       "<matplotlib.text.Text at 0x10e98bf28>"
      ]
     },
     "execution_count": 67,
     "metadata": {},
     "output_type": "execute_result"
    },
    {
     "data": {
      "image/png": "[encoded data removed]",
      "text/plain": [
       "<matplotlib.figure.Figure at 0x10ec2a400>"
      ]
     },
     "metadata": {},
     "output_type": "display_data"
    }
   ],
   "source": [
    "sarsa_results.moves.plot()\n",
    "plt.title('Total Moves per Experiment')\n",
    "plt.xlabel('Experiment')\n",
    "plt.ylabel('Total Moves')"
   ]
  },
  {
   "cell_type": "code",
   "execution_count": 68,
   "metadata": {
    "slideshow": {
     "slide_type": "slide"
    }
   },
   "outputs": [
    {
     "data": {
      "text/plain": [
       "<matplotlib.text.Text at 0x10ec91d30>"
      ]
     },
     "execution_count": 68,
     "metadata": {},
     "output_type": "execute_result"
    },
    {
     "data": {
      "image/png": "[encoded data removed]",
      "text/plain": [
       "<matplotlib.figure.Figure at 0x10eab1240>"
      ]
     },
     "metadata": {},
     "output_type": "display_data"
    }
   ],
   "source": [
    "sarsa_results.epsilon.plot()\n",
    "plt.title('Value of Epsilon Experiment')\n",
    "plt.xlabel('Experiment')\n",
    "plt.ylabel('Epsilon')"
   ]
  },
  {
   "cell_type": "code",
   "execution_count": 69,
   "metadata": {
    "slideshow": {
     "slide_type": "slide"
    }
   },
   "outputs": [
    {
     "data": {
      "text/plain": [
       "<matplotlib.text.Text at 0x10edf29e8>"
      ]
     },
     "execution_count": 69,
     "metadata": {},
     "output_type": "execute_result"
    },
    {
     "data": {
      "image/png": "[encoded data removed]",
      "text/plain": [
       "<matplotlib.figure.Figure at 0x10edd71d0>"
      ]
     },
     "metadata": {},
     "output_type": "display_data"
    }
   ],
   "source": [
    "sarsa_results.groupby('hit_goal')['total_reward'].count().plot(kind='bar')\n",
    "plt.xticks(rotation=0)\n",
    "plt.title('Agent Reached Goal')\n",
    "plt.ylabel('# Experiments')"
   ]
  }
 ],
 "metadata": {
  "anaconda-cloud": {},
  "celltoolbar": "Slideshow",
  "kernelspec": {
   "display_name": "Python [default]",
   "language": "python",
   "name": "python3"
  },
  "language_info": {
   "codemirror_mode": {
    "name": "ipython",
    "version": 3
   },
   "file_extension": ".py",
   "mimetype": "text/x-python",
   "name": "python",
   "nbconvert_exporter": "python",
   "pygments_lexer": "ipython3",
   "version": "3.6.1"
  }
 },
 "nbformat": 4,
 "nbformat_minor": 1
}
